{
 "cells": [
  {
   "cell_type": "code",
   "execution_count": 18,
   "metadata": {},
   "outputs": [],
   "source": [
    "# Imports\n",
    "import os\n",
    "import numpy as np\n",
    "import pandas as pd\n",
    "from astropy.table import Table"
   ]
  },
  {
   "cell_type": "code",
   "execution_count": 34,
   "metadata": {},
   "outputs": [],
   "source": [
    "data_folder = \"data-2019-09-23-nickel-joey-anne\"\n",
    "n_iters     = 1"
   ]
  },
  {
   "cell_type": "markdown",
   "metadata": {},
   "source": [
    "## Load the photometry measurements from file"
   ]
  },
  {
   "cell_type": "code",
   "execution_count": 35,
   "metadata": {},
   "outputs": [],
   "source": [
    "merged_asof_tab = Table.read(os.path.join(data_folder, 'photometry/merged_asof_cleaned_iter_{}.dat'.format(n_iters)), \n",
    "                             format='ascii')\n",
    "\n",
    "landolt_v_phot = Table.read(os.path.join(data_folder, 'photometry/landolt_v.dat'), format='ascii')\n",
    "landolt_b_phot = Table.read(os.path.join(data_folder, 'photometry/landolt_b.dat'), format='ascii')"
   ]
  },
  {
   "cell_type": "markdown",
   "metadata": {},
   "source": [
    "## Make sure the indices match "
   ]
  },
  {
   "cell_type": "code",
   "execution_count": 36,
   "metadata": {},
   "outputs": [
    {
     "data": {
      "text/html": [
       "<i>Table length=3</i>\n",
       "<table id=\"table4599145864\" class=\"table-striped table-bordered table-condensed\">\n",
       "<thead><tr><th>x_0</th><th>x_fit</th><th>y_0</th><th>y_fit</th><th>flux_0</th><th>flux_fit</th><th>id</th><th>group_id</th><th>flux_unc</th><th>x_0_unc</th><th>y_0_unc</th><th>iter_detected</th></tr></thead>\n",
       "<thead><tr><th>float64</th><th>float64</th><th>float64</th><th>float64</th><th>float64</th><th>float64</th><th>int64</th><th>int64</th><th>float64</th><th>float64</th><th>float64</th><th>int64</th></tr></thead>\n",
       "<tr><td>297.7192446421318</td><td>297.7538899395244</td><td>89.40653474429064</td><td>89.13105871332692</td><td>64108.95917251523</td><td>53670.10024687822</td><td>1</td><td>1</td><td>2873.534095611987</td><td>0.15314793207972988</td><td>0.15313078784776077</td><td>1</td></tr>\n",
       "<tr><td>221.36880305315282</td><td>221.48024597109293</td><td>254.58604691605123</td><td>254.63230555817503</td><td>168558.19445178768</td><td>140127.7957145692</td><td>2</td><td>2</td><td>7427.159668382596</td><td>0.15168088353994316</td><td>0.15163316364663995</td><td>1</td></tr>\n",
       "<tr><td>810.0468906218109</td><td>809.9313193787901</td><td>399.78868477550446</td><td>399.7681404564521</td><td>32635.432877755647</td><td>27605.590910825595</td><td>3</td><td>3</td><td>1357.179063250943</td><td>0.1406234370015771</td><td>0.140605181482703</td><td>1</td></tr>\n",
       "</table>"
      ],
      "text/plain": [
       "<Table length=3>\n",
       "       x_0               x_fit        ...       y_0_unc       iter_detected\n",
       "     float64            float64       ...       float64           int64    \n",
       "------------------ ------------------ ... ------------------- -------------\n",
       " 297.7192446421318  297.7538899395244 ... 0.15313078784776077             1\n",
       "221.36880305315282 221.48024597109293 ... 0.15163316364663995             1\n",
       " 810.0468906218109  809.9313193787901 ...   0.140605181482703             1"
      ]
     },
     "execution_count": 36,
     "metadata": {},
     "output_type": "execute_result"
    }
   ],
   "source": [
    "landolt_v_phot"
   ]
  },
  {
   "cell_type": "code",
   "execution_count": 37,
   "metadata": {},
   "outputs": [
    {
     "data": {
      "text/html": [
       "<i>Table length=3</i>\n",
       "<table id=\"table4599157592\" class=\"table-striped table-bordered table-condensed\">\n",
       "<thead><tr><th>x_0</th><th>y_0</th><th>flux_0</th><th>id</th><th>group_id</th><th>x_fit</th><th>y_fit</th><th>flux_fit</th><th>flux_unc</th><th>x_0_unc</th><th>y_0_unc</th></tr></thead>\n",
       "<thead><tr><th>float64</th><th>float64</th><th>float64</th><th>int64</th><th>int64</th><th>float64</th><th>float64</th><th>float64</th><th>float64</th><th>float64</th><th>float64</th></tr></thead>\n",
       "<tr><td>297.15286084474883</td><td>88.68384323005239</td><td>20259.982321347634</td><td>1</td><td>1</td><td>296.10451471833517</td><td>87.36485270035352</td><td>17820.483709541655</td><td>957.5548232545625</td><td>0.15402184096057475</td><td>0.1555341844175047</td></tr>\n",
       "<tr><td>220.80241789201403</td><td>253.86335507588052</td><td>42603.91172707826</td><td>2</td><td>2</td><td>219.8997511545067</td><td>252.85163853521215</td><td>36472.34812429178</td><td>1987.1962635907385</td><td>0.1564295111490652</td><td>0.1564992242738294</td></tr>\n",
       "<tr><td>809.480504532303</td><td>399.06599799846157</td><td>31476.314396463193</td><td>3</td><td>3</td><td>807.8330447459327</td><td>398.2732750815672</td><td>27939.865057612853</td><td>1608.9220607210098</td><td>0.16539135057937268</td><td>0.16490159943016522</td></tr>\n",
       "</table>"
      ],
      "text/plain": [
       "<Table length=3>\n",
       "       x_0                y_0         ...       y_0_unc      \n",
       "     float64            float64       ...       float64      \n",
       "------------------ ------------------ ... -------------------\n",
       "297.15286084474883  88.68384323005239 ...  0.1555341844175047\n",
       "220.80241789201403 253.86335507588052 ...  0.1564992242738294\n",
       "  809.480504532303 399.06599799846157 ... 0.16490159943016522"
      ]
     },
     "execution_count": 37,
     "metadata": {},
     "output_type": "execute_result"
    }
   ],
   "source": [
    "landolt_b_phot"
   ]
  },
  {
   "cell_type": "markdown",
   "metadata": {},
   "source": [
    "## True Landolt #125 magnitudes\n",
    "From: http://www.wiyn.org/Observe/Landolt/charts/c125.html"
   ]
  },
  {
   "cell_type": "code",
   "execution_count": 38,
   "metadata": {},
   "outputs": [],
   "source": [
    "landolt_1965_v_mag = 11.419\n",
    "landolt_1969_v_mag = 10.382\n",
    "landolt_1925_v_mag = 12.388\n",
    "landolt_v_mags = np.array([landolt_1965_v_mag, landolt_1969_v_mag, landolt_1925_v_mag])\n",
    "\n",
    "landolt_1965_b_mag = landolt_1965_v_mag + 1.710\n",
    "landolt_1969_b_mag = landolt_1969_v_mag + 1.959\n",
    "landolt_1925_b_mag = landolt_1925_v_mag + 0.395\n",
    "landolt_b_mags = np.array([landolt_1965_b_mag, landolt_1969_b_mag, landolt_1925_b_mag])"
   ]
  },
  {
   "cell_type": "markdown",
   "metadata": {},
   "source": [
    "## Some constants"
   ]
  },
  {
   "cell_type": "markdown",
   "metadata": {},
   "source": [
    "### Landolt image exposure times\n",
    "From: https://docs.google.com/spreadsheets/d/1tiIF8VI7EcfBdhocXvWXtCffNllyym3ZdUw7BWaMaX0/edit?ts=5d890f31#gid=0"
   ]
  },
  {
   "cell_type": "code",
   "execution_count": 39,
   "metadata": {},
   "outputs": [],
   "source": [
    "EXP_TIME_LANDOLT_V = 5.0   # seconds\n",
    "EXP_TIME_LANDOLT_B = 10.0  # seconds\n",
    "EXP_TIME_NGC6819   = 120.0 # seconds"
   ]
  },
  {
   "cell_type": "markdown",
   "metadata": {},
   "source": [
    "### Distance to NGC6819\n",
    "From: https://arxiv.org/abs/1603.00474"
   ]
  },
  {
   "cell_type": "code",
   "execution_count": 40,
   "metadata": {},
   "outputs": [],
   "source": [
    "DISTANCE = 2.309e3 # pc"
   ]
  },
  {
   "cell_type": "markdown",
   "metadata": {},
   "source": [
    "## Measure the zero points in both V and B filters"
   ]
  },
  {
   "cell_type": "code",
   "execution_count": 41,
   "metadata": {},
   "outputs": [],
   "source": [
    "def zero_point(mag, DN, exp_time):\n",
    "    return mag + 2.5 * np.log10(DN / exp_time)\n",
    "\n",
    "def mag(DN, ZP, exp_time):\n",
    "    return -2.5 * np.log10(DN / exp_time) + ZP\n",
    "\n",
    "def abs_mag(m, d):\n",
    "    '''\n",
    "    m: relative magnitude\n",
    "    d: distance (in pc)\n",
    "    '''\n",
    "    return m - 2.5 * np.log10((d/10)**2)"
   ]
  },
  {
   "cell_type": "code",
   "execution_count": 42,
   "metadata": {},
   "outputs": [],
   "source": [
    "landolt_v_flux = np.array(landolt_v_phot['flux_fit'])\n",
    "landolt_b_flux = np.array(landolt_b_phot['flux_fit'])"
   ]
  },
  {
   "cell_type": "code",
   "execution_count": 43,
   "metadata": {},
   "outputs": [
    {
     "name": "stdout",
     "output_type": "stream",
     "text": [
      "Zero Point Magnitude in V = 21.5800\n",
      "Zero Point Magnitude in B = 21.3003\n"
     ]
    }
   ],
   "source": [
    "ZP_V = np.mean(zero_point(landolt_v_mags, landolt_v_flux, EXP_TIME_LANDOLT_V))\n",
    "ZP_B = np.mean(zero_point(landolt_b_mags, landolt_b_flux, EXP_TIME_LANDOLT_B))\n",
    "\n",
    "print('Zero Point Magnitude in V = {:.4f}'.format(ZP_V))\n",
    "print('Zero Point Magnitude in B = {:.4f}'.format(ZP_B))"
   ]
  },
  {
   "cell_type": "markdown",
   "metadata": {},
   "source": [
    "## Measure the B and V magnitudes in NGC6819"
   ]
  },
  {
   "cell_type": "code",
   "execution_count": 44,
   "metadata": {},
   "outputs": [],
   "source": [
    "merged_asof_v_mags = mag(np.array(merged_asof_tab['flux_fit_v']), ZP_V, EXP_TIME_NGC6819)\n",
    "merged_asof_b_mags = mag(np.array(merged_asof_tab['flux_fit_b']), ZP_B, EXP_TIME_NGC6819)\n",
    "\n",
    "merged_asof_b_minus_v = merged_asof_b_mags - merged_asof_v_mags"
   ]
  },
  {
   "cell_type": "markdown",
   "metadata": {},
   "source": [
    "## Measure the absolute magnitude in V"
   ]
  },
  {
   "cell_type": "code",
   "execution_count": 45,
   "metadata": {},
   "outputs": [],
   "source": [
    "merged_asof_abs_v_mags = abs_mag(merged_asof_v_mags, DISTANCE)"
   ]
  },
  {
   "cell_type": "markdown",
   "metadata": {},
   "source": [
    "## Save the calibrated magnitude and color measurements"
   ]
  },
  {
   "cell_type": "code",
   "execution_count": 46,
   "metadata": {},
   "outputs": [],
   "source": [
    "np.save(os.path.join(data_folder, 'color_and_mag_results/merged_asof_v_mags_iter_{}.npy'.format(n_iters)), \n",
    "        merged_asof_v_mags)\n",
    "np.save(os.path.join(data_folder, 'color_and_mag_results/merged_asof_b_mags_iter_{}.npy'.format(n_iters)), \n",
    "        merged_asof_b_mags)\n",
    "np.save(os.path.join(data_folder, 'color_and_mag_results/merged_asof_b_minus_v_iter_{}.npy'.format(n_iters)), \n",
    "        merged_asof_b_minus_v)\n",
    "np.save(os.path.join(data_folder, 'color_and_mag_results/merged_asof_abs_v_mags_iter_{}.npy'.format(n_iters)), \n",
    "        merged_asof_abs_v_mags)"
   ]
  },
  {
   "cell_type": "markdown",
   "metadata": {},
   "source": [
    "## Inspect the cleaned data by eye"
   ]
  },
  {
   "cell_type": "code",
   "execution_count": 47,
   "metadata": {},
   "outputs": [
    {
     "data": {
      "image/png": "[encoded data removed]",
      "text/plain": [
       "<Figure size 432x288 with 1 Axes>"
      ]
     },
     "metadata": {
      "needs_background": "light"
     },
     "output_type": "display_data"
    }
   ],
   "source": [
    "import matplotlib.pyplot as plt\n",
    "%matplotlib inline\n",
    "plt.plot(merged_asof_b_minus_v, merged_asof_abs_v_mags, '.', alpha=0.4)\n",
    "plt.gca().invert_yaxis()\n",
    "plt.show()"
   ]
  },
  {
   "cell_type": "code",
   "execution_count": null,
   "metadata": {},
   "outputs": [],
   "source": []
  }
 ],
 "metadata": {
  "kernelspec": {
   "display_name": "Python 3",
   "language": "python",
   "name": "python3"
  },
  "language_info": {
   "codemirror_mode": {
    "name": "ipython",
    "version": 3
   },
   "file_extension": ".py",
   "mimetype": "text/x-python",
   "name": "python",
   "nbconvert_exporter": "python",
   "pygments_lexer": "ipython3",
   "version": "3.7.3"
  }
 },
 "nbformat": 4,
 "nbformat_minor": 2
}
