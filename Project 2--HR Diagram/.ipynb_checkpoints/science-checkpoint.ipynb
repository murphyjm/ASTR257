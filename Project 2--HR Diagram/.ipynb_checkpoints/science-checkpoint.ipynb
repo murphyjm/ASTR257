{
 "cells": [
  {
   "cell_type": "code",
   "execution_count": 1,
   "metadata": {},
   "outputs": [],
   "source": [
    "# Imports\n",
    "import os\n",
    "from pkg_resources import resource_filename\n",
    "import os\n",
    "import numpy as np\n",
    "from astropy.io import fits\n",
    "\n",
    "# ASTR 257\n",
    "from astr257 import img_utils\n",
    "\n",
    "# Personal utils\n",
    "from utils import *\n",
    "\n",
    "# Matplotlib\n",
    "import matplotlib.pyplot as plt\n",
    "from matplotlib.colors import LogNorm\n",
    "from matplotlib import rcParams\n",
    "rcParams[\"font.family\"] = \"serif\"\n",
    "rcParams[\"font.serif\"] = \"Times New Roman\"\n",
    "%matplotlib inline\n",
    "rcParams['text.usetex'] = True\n",
    "rcParams['text.latex.preamble'] = [r'\\usepackage{amsmath} \\usepackage{bm} \\usepackage{physics}']\n",
    "%config InlineBackend.figure_format = 'retina' # For high quality figures\n",
    "%load_ext autoreload\n",
    "%autoreload 2"
   ]
  },
  {
   "cell_type": "code",
   "execution_count": 2,
   "metadata": {},
   "outputs": [],
   "source": [
    "data_folder = \"data-2019-09-23-nickel-joey-anne\"\n",
    "OVERWRITE = True"
   ]
  },
  {
   "cell_type": "markdown",
   "metadata": {},
   "source": [
    "## Load the calibration masters\n",
    "**NB**: *10s darks are for V, 30s darks are for B*"
   ]
  },
  {
   "cell_type": "code",
   "execution_count": 3,
   "metadata": {},
   "outputs": [],
   "source": [
    "# Darks\n",
    "darks_10s_master = fits.getdata(os.path.join(data_folder, 'masters/darks_10s_master.fits'))\n",
    "darks_10s_master = darks_10s_master.astype(float)\n",
    "\n",
    "darks_30s_master = fits.getdata(os.path.join(data_folder, 'masters/darks_30s_master.fits'))\n",
    "darks_30s_master = darks_30s_master.astype(float)\n",
    "\n",
    "# Biases\n",
    "biases_combined = fits.getdata(os.path.join(data_folder, 'masters/biases_combined.fits'))\n",
    "biases_combined = biases_combined.astype(float)\n",
    "\n",
    "# Normalized flats for b and v\n",
    "flats_v_master_normalized = fits.getdata(os.path.join(data_folder, 'masters/flats_v_master_normalized.fits'))\n",
    "flats_v_master_normalized = flats_v_master_normalized.astype(float)\n",
    "\n",
    "flats_b_master_normalized = fits.getdata(os.path.join(data_folder, 'masters/flats_b_master_normalized.fits'))\n",
    "flats_b_master_normalized = flats_b_master_normalized.astype(float)"
   ]
  },
  {
   "cell_type": "markdown",
   "metadata": {},
   "source": [
    "# Download the data:\n",
    "https://mtham.ucolick.org/data/2019-09/23/nickel/Andrew.Skemer/"
   ]
  },
  {
   "cell_type": "markdown",
   "metadata": {},
   "source": [
    "## Median combine the science images and Landolt field"
   ]
  },
  {
   "cell_type": "code",
   "execution_count": 4,
   "metadata": {},
   "outputs": [],
   "source": [
    "ngc6819_v_combined, header_ngc6819_v = crawl_and_median(data_folder, 'ngc6819/v')\n",
    "ngc6819_b_combined, header_ngc6819_b = crawl_and_median(data_folder, 'ngc6819/b')\n",
    "\n",
    "landolt_v_combined, header_landolt_v = crawl_and_median(data_folder, 'landolt/v')\n",
    "landolt_b_combined, header_landolt_b = crawl_and_median(data_folder, 'landolt/b')"
   ]
  },
  {
   "cell_type": "markdown",
   "metadata": {},
   "source": [
    "## Calibrate the science images and Landolt fields"
   ]
  },
  {
   "cell_type": "code",
   "execution_count": 5,
   "metadata": {},
   "outputs": [],
   "source": [
    "# Foo factor to avoid divide by zero\n",
    "foo_factor_v = 1.1 * np.abs(np.min(flats_v_master_normalized))\n",
    "foo_factor_b = 1.1 * np.abs(np.min(flats_b_master_normalized))"
   ]
  },
  {
   "cell_type": "code",
   "execution_count": 6,
   "metadata": {},
   "outputs": [
    {
     "name": "stderr",
     "output_type": "stream",
     "text": [
      "/Users/josephmurphy/.local/lib/python3.7/site-packages/ipykernel_launcher.py:2: RuntimeWarning: divide by zero encountered in true_divide\n",
      "  \n",
      "/Users/josephmurphy/.local/lib/python3.7/site-packages/ipykernel_launcher.py:2: RuntimeWarning: invalid value encountered in true_divide\n",
      "  \n",
      "/Users/josephmurphy/.local/lib/python3.7/site-packages/ipykernel_launcher.py:5: RuntimeWarning: divide by zero encountered in true_divide\n",
      "  \"\"\"\n",
      "/Users/josephmurphy/.local/lib/python3.7/site-packages/ipykernel_launcher.py:5: RuntimeWarning: invalid value encountered in true_divide\n",
      "  \"\"\"\n"
     ]
    }
   ],
   "source": [
    "# Calibrate\n",
    "ngc6819_v_master_full_cal = ngc6819_v_combined - biases_combined - darks_10s_master / (flats_v_master_normalized + foo_factor_v)\n",
    "ngc6819_b_master_full_cal = ngc6819_b_combined - biases_combined - darks_30s_master / (flats_b_master_normalized + foo_factor_b)\n",
    "\n",
    "landolt_v_master_full_cal = landolt_v_combined - biases_combined - darks_10s_master / (flats_v_master_normalized + foo_factor_v)\n",
    "landolt_b_master_full_cal = landolt_b_combined - biases_combined - darks_30s_master / (flats_b_master_normalized + foo_factor_b)"
   ]
  },
  {
   "cell_type": "markdown",
   "metadata": {},
   "source": [
    "## Fix bad column at y_coord = 256 and chop off overscan region"
   ]
  },
  {
   "cell_type": "code",
   "execution_count": 9,
   "metadata": {},
   "outputs": [
    {
     "name": "stdout",
     "output_type": "stream",
     "text": [
      "(1024, 1056)\n"
     ]
    }
   ],
   "source": [
    "dims = ngc6819_v_master_full_cal.shape\n",
    "print(dims)"
   ]
  },
  {
   "cell_type": "code",
   "execution_count": 10,
   "metadata": {},
   "outputs": [],
   "source": [
    "ngc6819_v_master_full_cal_nobadcol = fix_bad_col(ngc6819_v_master_full_cal)\n",
    "ngc6819_v_master_full_cal_nobadcol = ngc6819_v_master_full_cal_nobadcol[:, :dims[0]]\n",
    "\n",
    "ngc6819_b_master_full_cal_nobadcol = fix_bad_col(ngc6819_b_master_full_cal)\n",
    "ngc6819_b_master_full_cal_nobadcol = ngc6819_b_master_full_cal_nobadcol[:, :dims[0]]\n",
    "\n",
    "landolt_v_master_full_cal_nobadcol = fix_bad_col(landolt_v_master_full_cal)\n",
    "landolt_v_master_full_cal_nobadcol = landolt_v_master_full_cal_nobadcol[:, :dims[0]]\n",
    "\n",
    "landolt_b_master_full_cal_nobadcol = fix_bad_col(landolt_b_master_full_cal)\n",
    "landolt_b_master_full_cal_nobadcol = landolt_b_master_full_cal_nobadcol[:, :dims[0]]"
   ]
  },
  {
   "cell_type": "code",
   "execution_count": 14,
   "metadata": {},
   "outputs": [
    {
     "data": {
      "text/plain": [
       "(1024, 1024)"
      ]
     },
     "execution_count": 14,
     "metadata": {},
     "output_type": "execute_result"
    }
   ],
   "source": [
    "ngc6819_b_master_full_cal_nobadcol.shape"
   ]
  },
  {
   "cell_type": "code",
   "execution_count": 15,
   "metadata": {},
   "outputs": [],
   "source": [
    "# Save\n",
    "try:\n",
    "    fits.writeto(os.path.join(data_folder, 'masters/ngc6819_v_master_full_cal_nobadcol.fits'), ngc6819_v_master_full_cal_nobadcol, header=header_ngc6819_v, overwrite=OVERWRITE)\n",
    "    fits.writeto(os.path.join(data_folder, 'masters/ngc6819_b_master_full_cal_nobadcol.fits'), ngc6819_b_master_full_cal_nobadcol, header=header_ngc6819_b, overwrite=OVERWRITE)\n",
    "\n",
    "    fits.writeto(os.path.join(data_folder, 'masters/landolt_v_master_full_cal_nobadcol.fits'), landolt_v_master_full_cal_nobadcol, header=header_landolt_v, overwrite=OVERWRITE)\n",
    "    fits.writeto(os.path.join(data_folder, 'masters/landolt_b_master_full_cal_nobadcol.fits'), landolt_b_master_full_cal_nobadcol, header=header_landolt_b, overwrite=OVERWRITE)\n",
    "except:\n",
    "    print('Warning: Did not overwrite file.')"
   ]
  },
  {
   "cell_type": "code",
   "execution_count": null,
   "metadata": {},
   "outputs": [],
   "source": []
  }
 ],
 "metadata": {
  "kernelspec": {
   "display_name": "Python 3",
   "language": "python",
   "name": "python3"
  },
  "language_info": {
   "codemirror_mode": {
    "name": "ipython",
    "version": 3
   },
   "file_extension": ".py",
   "mimetype": "text/x-python",
   "name": "python",
   "nbconvert_exporter": "python",
   "pygments_lexer": "ipython3",
   "version": "3.7.3"
  }
 },
 "nbformat": 4,
 "nbformat_minor": 2
}
