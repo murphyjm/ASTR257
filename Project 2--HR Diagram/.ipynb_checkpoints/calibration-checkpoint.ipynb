{
 "cells": [
  {
   "cell_type": "code",
   "execution_count": 28,
   "metadata": {},
   "outputs": [
    {
     "name": "stdout",
     "output_type": "stream",
     "text": [
      "The autoreload extension is already loaded. To reload it, use:\n",
      "  %reload_ext autoreload\n"
     ]
    }
   ],
   "source": [
    "# Imports\n",
    "import os\n",
    "from pkg_resources import resource_filename\n",
    "import os\n",
    "import numpy as np\n",
    "from astropy.io import fits\n",
    "\n",
    "# ASTR 257\n",
    "from astr257 import img_utils\n",
    "\n",
    "# Personal utils\n",
    "from utils import *\n",
    "\n",
    "# Matplotlib\n",
    "import matplotlib.pyplot as plt\n",
    "from matplotlib.colors import LogNorm\n",
    "from matplotlib import rcParams\n",
    "rcParams[\"font.family\"] = \"serif\"\n",
    "rcParams[\"font.serif\"] = \"Times New Roman\"\n",
    "%matplotlib inline\n",
    "rcParams['text.usetex'] = True\n",
    "rcParams['text.latex.preamble'] = [r'\\usepackage{amsmath} \\usepackage{bm} \\usepackage{physics}']\n",
    "%config InlineBackend.figure_format = 'retina' # For high quality figures\n",
    "%load_ext autoreload\n",
    "%autoreload 2"
   ]
  },
  {
   "cell_type": "code",
   "execution_count": 19,
   "metadata": {},
   "outputs": [],
   "source": [
    "data_folder = \"data-2019-09-23-nickel-joey-anne\""
   ]
  },
  {
   "cell_type": "code",
   "execution_count": 30,
   "metadata": {},
   "outputs": [],
   "source": [
    "OVERWRITE = True"
   ]
  },
  {
   "cell_type": "markdown",
   "metadata": {},
   "source": [
    "### Median combine the calibration images"
   ]
  },
  {
   "cell_type": "code",
   "execution_count": 29,
   "metadata": {},
   "outputs": [],
   "source": [
    "biases_combined, header_biases = crawl_and_median(data_folder, 'biases')\n",
    "\n",
    "darks_10s_combined, header_darks_10s = crawl_and_median(data_folder, 'darks/10s')\n",
    "darks_30s_combined, header_darks_30s = crawl_and_median(data_folder, 'darks/30s')\n",
    "\n",
    "flats_v_combined, header_flats_v = crawl_and_median(data_folder, 'flats/v')\n",
    "flats_b_combined, header_flats_b = crawl_and_median(data_folder, 'flats/b')"
   ]
  },
  {
   "cell_type": "markdown",
   "metadata": {},
   "source": [
    "### Make the masters"
   ]
  },
  {
   "cell_type": "code",
   "execution_count": 32,
   "metadata": {},
   "outputs": [],
   "source": [
    "darks_10s_master = darks_10s_combined - biases_combined\n",
    "darks_30s_master = darks_30s_combined - biases_combined\n",
    "\n",
    "flats_v_master = flats_v_combined - darks_10s_master - biases_combined\n",
    "flats_b_master = flats_b_combined - darks_30s_master - biases_combined\n",
    "\n",
    "# Normalize the flat frame\n",
    "flats_v_master_normalized = flats_v_master / np.median(flats_v_master)\n",
    "flats_b_master_normalized = flats_b_master / np.median(flats_b_master)\n",
    "\n",
    "# Save the masters\n",
    "try:\n",
    "    fits.writeto(os.path.join(data_folder, 'masters/darks_10s_master.fits'), darks_10s_master, header=header_darks_10s, overwrite=OVERWRITE)\n",
    "    fits.writeto(os.path.join(data_folder, 'masters/darks_30s_master.fits'), darks_30s_master, header=header_darks_30s, overwrite=OVERWRITE)\n",
    "    \n",
    "    fits.writeto(os.path.join(data_folder, 'masters/biases_combined.fits'), biases_combined, header=header_biases, overwrite=OVERWRITE)\n",
    "    \n",
    "    fits.writeto(os.path.join(data_folder, 'masters/flats_v_master_normalized.fits'), flats_v_master_normalized, header=header_flats_v, overwrite=OVERWRITE)\n",
    "    fits.writeto(os.path.join(data_folder, 'masters/flats_b_master_normalized.fits'), flats_b_master_normalized, header=header_flats_b, overwrite=OVERWRITE)\n",
    "except:\n",
    "    print('Warning: Did not overwrite file.')"
   ]
  },
  {
   "cell_type": "code",
   "execution_count": null,
   "metadata": {},
   "outputs": [],
   "source": []
  }
 ],
 "metadata": {
  "kernelspec": {
   "display_name": "Python 3",
   "language": "python",
   "name": "python3"
  },
  "language_info": {
   "codemirror_mode": {
    "name": "ipython",
    "version": 3
   },
   "file_extension": ".py",
   "mimetype": "text/x-python",
   "name": "python",
   "nbconvert_exporter": "python",
   "pygments_lexer": "ipython3",
   "version": "3.7.3"
  }
 },
 "nbformat": 4,
 "nbformat_minor": 2
}
