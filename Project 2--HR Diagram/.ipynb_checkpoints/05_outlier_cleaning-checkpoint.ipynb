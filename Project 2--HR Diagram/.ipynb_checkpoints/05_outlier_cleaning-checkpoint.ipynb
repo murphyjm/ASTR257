{
 "cells": [
  {
   "cell_type": "code",
   "execution_count": 1,
   "metadata": {},
   "outputs": [],
   "source": [
    "# Imports\n",
    "import os\n",
    "import numpy as np\n",
    "from astropy.table import Table\n",
    "\n",
    "# Matplotlib\n",
    "import matplotlib.pyplot as plt\n",
    "from matplotlib import rcParams\n",
    "rcParams[\"font.family\"] = \"serif\"\n",
    "rcParams[\"font.serif\"] = \"Times New Roman\"\n",
    "%matplotlib inline\n",
    "#%matplotlib notebook\n",
    "rcParams['text.usetex'] = True\n",
    "rcParams['text.latex.preamble'] = [r'\\usepackage{amsmath} \\usepackage{bm} \\usepackage{physics}']\n",
    "%config InlineBackend.figure_format = 'retina' # For high quality figures\n",
    "%load_ext autoreload\n",
    "%autoreload 2"
   ]
  },
  {
   "cell_type": "markdown",
   "metadata": {},
   "source": [
    "## Load the matched tables"
   ]
  },
  {
   "cell_type": "code",
   "execution_count": 2,
   "metadata": {},
   "outputs": [],
   "source": [
    "data_folder = \"data-2019-09-23-nickel-joey-anne\""
   ]
  },
  {
   "cell_type": "code",
   "execution_count": 3,
   "metadata": {},
   "outputs": [],
   "source": [
    "ngc6819_v_tab = Table.read(os.path.join(data_folder, 'photometry/ngc6819_v_matched.dat'), format='ascii')\n",
    "ngc6819_b_tab = Table.read(os.path.join(data_folder, 'photometry/ngc6819_b_matched.dat'), format='ascii')\n",
    "\n",
    "ngc6819_v_pd = ngc6819_v_tab.to_pandas()\n",
    "ngc6819_b_pd = ngc6819_b_tab.to_pandas()"
   ]
  },
  {
   "cell_type": "markdown",
   "metadata": {},
   "source": [
    "## Look for saturated sources (probably in B) and get rid of them\n",
    "\n",
    "As a proxy, use rows which have bad values for the flux uncertainty estimation."
   ]
  },
  {
   "cell_type": "code",
   "execution_count": 4,
   "metadata": {},
   "outputs": [],
   "source": [
    "bad_row_inds = ngc6819_b_pd.index[ngc6819_b_pd['flux_unc'] < 10.].tolist()"
   ]
  },
  {
   "cell_type": "markdown",
   "metadata": {},
   "source": [
    "### Remove these rows from both dataframes"
   ]
  },
  {
   "cell_type": "code",
   "execution_count": 6,
   "metadata": {},
   "outputs": [
    {
     "name": "stdout",
     "output_type": "stream",
     "text": [
      "17 rows dropped\n"
     ]
    }
   ],
   "source": [
    "ngc6819_v_pd_cleaned = ngc6819_v_pd.drop(index=bad_row_inds)\n",
    "ngc6819_b_pd_cleaned = ngc6819_b_pd.drop(index=bad_row_inds)\n",
    "\n",
    "print(\"{} rows dropped\".format(len(ngc6819_v_pd) - len(ngc6819_v_pd_cleaned))) # Difference is the number of rows dropped"
   ]
  },
  {
   "cell_type": "code",
   "execution_count": 7,
   "metadata": {},
   "outputs": [],
   "source": [
    "# Convert back to astropy Tables\n",
    "ngc6819_v_tab = Table.from_pandas(ngc6819_v_pd_cleaned)\n",
    "ngc6819_b_tab = Table.from_pandas(ngc6819_b_pd_cleaned)\n",
    "\n",
    "# Save the cleaned tables\n",
    "overwrite = True\n",
    "\n",
    "ngc6819_v_tab.write(os.path.join(data_folder, 'photometry/ngc6819_v_matched_cleaned.dat'), format='ascii', overwrite=True)\n",
    "ngc6819_b_tab.write(os.path.join(data_folder, 'photometry/ngc6819_b_matched_cleaned.dat'), format='ascii', overwrite=True)"
   ]
  },
  {
   "cell_type": "code",
   "execution_count": null,
   "metadata": {},
   "outputs": [],
   "source": []
  }
 ],
 "metadata": {
  "kernelspec": {
   "display_name": "Python 3",
   "language": "python",
   "name": "python3"
  },
  "language_info": {
   "codemirror_mode": {
    "name": "ipython",
    "version": 3
   },
   "file_extension": ".py",
   "mimetype": "text/x-python",
   "name": "python",
   "nbconvert_exporter": "python",
   "pygments_lexer": "ipython3",
   "version": "3.7.3"
  }
 },
 "nbformat": 4,
 "nbformat_minor": 2
}
