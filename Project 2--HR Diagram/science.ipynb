{
 "cells": [
  {
   "cell_type": "code",
   "execution_count": 4,
   "metadata": {},
   "outputs": [
    {
     "name": "stdout",
     "output_type": "stream",
     "text": [
      "The autoreload extension is already loaded. To reload it, use:\n",
      "  %reload_ext autoreload\n"
     ]
    }
   ],
   "source": [
    "# Imports\n",
    "import os\n",
    "from pkg_resources import resource_filename\n",
    "import os\n",
    "import numpy as np\n",
    "from astropy.io import fits\n",
    "\n",
    "# ASTR 257\n",
    "from astr257 import img_utils\n",
    "\n",
    "# Personal utils\n",
    "from utils import *\n",
    "\n",
    "# Matplotlib\n",
    "import matplotlib.pyplot as plt\n",
    "from matplotlib.colors import LogNorm\n",
    "from matplotlib import rcParams\n",
    "rcParams[\"font.family\"] = \"serif\"\n",
    "rcParams[\"font.serif\"] = \"Times New Roman\"\n",
    "%matplotlib inline\n",
    "rcParams['text.usetex'] = True\n",
    "rcParams['text.latex.preamble'] = [r'\\usepackage{amsmath} \\usepackage{bm} \\usepackage{physics}']\n",
    "%config InlineBackend.figure_format = 'retina' # For high quality figures\n",
    "%load_ext autoreload\n",
    "%autoreload 2"
   ]
  },
  {
   "cell_type": "code",
   "execution_count": 5,
   "metadata": {},
   "outputs": [],
   "source": [
    "data_folder = \"data-2019-09-23-nickel-joey-anne\"\n",
    "OVERWRITE = True"
   ]
  },
  {
   "cell_type": "markdown",
   "metadata": {},
   "source": [
    "## Load the calibration masters\n",
    "**NB**: *10s darks are for V, 30s darks are for B*"
   ]
  },
  {
   "cell_type": "code",
   "execution_count": 7,
   "metadata": {},
   "outputs": [],
   "source": [
    "# Darks\n",
    "darks_10s_master = fits.getdata(os.path.join(data_folder, 'masters/darks_10s_master.fits'))\n",
    "darks_10s_master = darks_10s_master.astype(float)\n",
    "\n",
    "darks_30s_master = fits.getdata(os.path.join(data_folder, 'masters/darks_30s_master.fits'))\n",
    "darks_30s_master = darks_30s_master.astype(float)\n",
    "\n",
    "# Biases\n",
    "biases_combined = fits.getdata(os.path.join(data_folder, 'masters/biases_combined.fits'))\n",
    "biases_combined = biases_combined.astype(float)\n",
    "\n",
    "# Normalized flats for b and v\n",
    "flats_v_master_normalized = fits.getdata(os.path.join(data_folder, 'masters/flats_v_master_normalized.fits'))\n",
    "flats_v_master_normalized = flats_v_master_normalized.astype(float)\n",
    "\n",
    "flats_b_master_normalized = fits.getdata(os.path.join(data_folder, 'masters/flats_b_master_normalized.fits'))\n",
    "flats_b_master_normalized = flats_b_master_normalized.astype(float)"
   ]
  },
  {
   "cell_type": "markdown",
   "metadata": {},
   "source": [
    "# Download the data:\n",
    "https://mtham.ucolick.org/data/2019-09/23/nickel/Andrew.Skemer/"
   ]
  },
  {
   "cell_type": "markdown",
   "metadata": {},
   "source": [
    "## Median combine the science images and Landolt field"
   ]
  },
  {
   "cell_type": "code",
   "execution_count": null,
   "metadata": {},
   "outputs": [],
   "source": [
    "ngc6819_v_combined, header_ngc6819_v = crawl_and_median(data_folder, 'ngc6819/v')\n",
    "ngc6819_b_combined, header_ngc6819_b = crawl_and_median(data_folder, 'ngc6819/b')"
   ]
  },
  {
   "cell_type": "markdown",
   "metadata": {},
   "source": [
    "## Calibrate the science images"
   ]
  },
  {
   "cell_type": "code",
   "execution_count": null,
   "metadata": {},
   "outputs": [],
   "source": [
    "# Foo factor to avoid divide by zero\n",
    "foo_factor_v = 1.1 * np.abs(np.min(flats_v_master_normalized))\n",
    "foo_factor_b = 1.1 * np.abs(np.min(flats_b_master_normalized))"
   ]
  },
  {
   "cell_type": "code",
   "execution_count": null,
   "metadata": {},
   "outputs": [],
   "source": [
    "# Calibrate\n",
    "ngc6819_v_master_full_cal = ngc6819_v_combined - biases_combined - darks_10s_master / (flats_v_master_normalized + foo_factor_v)\n",
    "ngc6819_b_master_full_cal = ngc6819_b_combined - biases_combined - darks_30s_master / (flats_b_master_normalized + foo_factor_b)\n",
    "\n",
    "# Save\n",
    "try:\n",
    "    fits.writeto(os.path.join(data_folder, 'masters/ngc6819_v_master_full_cal.fits'), ngc6819_v_master_full_cal, header=header_ngc6819_v, overwrite=OVERWRITE)\n",
    "    fits.writeto(os.path.join(data_folder, 'masters/ngc6819_b_master_full_cal.fits'), ngc6819_b_master_full_cal, header=header_ngc6819_b, overwrite=OVERWRITE)\n",
    "except:\n",
    "    print('Warning: Did not overwrite file.')"
   ]
  }
 ],
 "metadata": {
  "kernelspec": {
   "display_name": "Python 3",
   "language": "python",
   "name": "python3"
  },
  "language_info": {
   "codemirror_mode": {
    "name": "ipython",
    "version": 3
   },
   "file_extension": ".py",
   "mimetype": "text/x-python",
   "name": "python",
   "nbconvert_exporter": "python",
   "pygments_lexer": "ipython3",
   "version": "3.7.3"
  }
 },
 "nbformat": 4,
 "nbformat_minor": 2
}
