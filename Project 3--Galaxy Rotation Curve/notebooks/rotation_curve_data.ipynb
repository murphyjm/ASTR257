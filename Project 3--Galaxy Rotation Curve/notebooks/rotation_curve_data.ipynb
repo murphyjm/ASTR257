{
 "cells": [
  {
   "cell_type": "code",
   "execution_count": 10,
   "metadata": {},
   "outputs": [],
   "source": [
    "import os\n",
    "import numpy as np"
   ]
  },
  {
   "cell_type": "code",
   "execution_count": 3,
   "metadata": {},
   "outputs": [],
   "source": [
    "# Constants\n",
    "KAST_RED_PS  = 0.43   # arcseconds/pixel\n",
    "H_ALPHA_REST = 6562.8 # Angstroms\n",
    "HUBBLE_CONST = 69.8   # km/s/Mpc\n",
    "C            = 3e5    # km/s"
   ]
  },
  {
   "cell_type": "code",
   "execution_count": 4,
   "metadata": {},
   "outputs": [],
   "source": [
    "# Helper functions\n",
    "def calc_redshift(obs, rest):\n",
    "    return (obs - rest) / rest\n",
    "\n",
    "def calc_velocity(redshift):\n",
    "    return redshift * C # km/s\n",
    "\n",
    "def calc_distance(velocity):\n",
    "    return velocity / HUBBLE_CONST # Mpc"
   ]
  },
  {
   "cell_type": "code",
   "execution_count": 5,
   "metadata": {},
   "outputs": [],
   "source": [
    "centroids = np.load('centroids_golay_filter_cleaned.npy')"
   ]
  },
  {
   "cell_type": "code",
   "execution_count": 6,
   "metadata": {},
   "outputs": [],
   "source": [
    "# Calculate redshift of galaxy\n",
    "halpha_obs = np.mean(centroids[:, 0]) # Angstroms\n",
    "redshift_ugc11876 = calc_redshift(halpha_obs, H_ALPHA_REST)\n",
    "\n",
    "# Calculate velocity\n",
    "velocity_ugc11876 = calc_velocity(redshift_ugc11876) # km/s\n",
    "\n",
    "# Calculate distance\n",
    "d = calc_distance(velocity_ugc11876) # Mpc"
   ]
  },
  {
   "cell_type": "code",
   "execution_count": 7,
   "metadata": {},
   "outputs": [],
   "source": [
    "# Estimate the central pixel\n",
    "center_pix = np.mean(centroids[:, 1])"
   ]
  },
  {
   "cell_type": "code",
   "execution_count": 9,
   "metadata": {},
   "outputs": [],
   "source": [
    "# Calculate the raidus and velocity curve\n",
    "pixel_r = np.abs(centroids[:, 1] - center_pix)\n",
    "radius  = 1e3 * (np.tan(KAST_RED_PS * (2 * np.pi / 360 / 3600) * pixel_r) * d) # Kpc\n",
    "velocity = np.abs(calc_velocity(calc_redshift(centroids[:, 0], halpha_obs)))   # km/s"
   ]
  },
  {
   "cell_type": "code",
   "execution_count": 11,
   "metadata": {},
   "outputs": [],
   "source": [
    "np.save(\"radius.npy\", radius)     # Kpc\n",
    "np.save(\"velocity.npy\", velocity) # km/s"
   ]
  },
  {
   "cell_type": "code",
   "execution_count": null,
   "metadata": {},
   "outputs": [],
   "source": [
    "fig, ax = plt.subplots(figsize=(7,5))\n",
    "\n",
    "ax.text(0, 100, 'N = {}'.format(len(velocity)), fontsize=14)\n",
    "\n",
    "ax.plot(radius, velocity, '.', alpha=0.4)\n",
    "\n",
    "ax.set_xlabel('Radius from nucleus [kpc]', fontsize=14)\n",
    "ax.set_ylabel(r'Velocity [kms$^{-1}$]', fontsize=14)\n",
    "ax.set_title('UGC 11876', fontsize=14)\n",
    "\n",
    "fig.tight_layout()\n",
    "fig.savefig(os.path.join(data_folder, 'ugc11876_rotation_curve.pdf'))\n",
    "\n",
    "plt.show()"
   ]
  }
 ],
 "metadata": {
  "kernelspec": {
   "display_name": "Python 3",
   "language": "python",
   "name": "python3"
  },
  "language_info": {
   "codemirror_mode": {
    "name": "ipython",
    "version": 3
   },
   "file_extension": ".py",
   "mimetype": "text/x-python",
   "name": "python",
   "nbconvert_exporter": "python",
   "pygments_lexer": "ipython3",
   "version": "3.7.3"
  }
 },
 "nbformat": 4,
 "nbformat_minor": 2
}
