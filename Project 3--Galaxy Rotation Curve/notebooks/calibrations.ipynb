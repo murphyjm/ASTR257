{
 "cells": [
  {
   "cell_type": "code",
   "execution_count": 52,
   "metadata": {},
   "outputs": [
    {
     "name": "stdout",
     "output_type": "stream",
     "text": [
      "The autoreload extension is already loaded. To reload it, use:\n",
      "  %reload_ext autoreload\n"
     ]
    }
   ],
   "source": [
    "# Imports\n",
    "import os\n",
    "from pkg_resources import resource_filename\n",
    "import numpy as np\n",
    "from astropy.io import fits\n",
    "\n",
    "# ASTR 257\n",
    "from astr257 import img_utils\n",
    "\n",
    "# Personal utils\n",
    "from utils import *\n",
    "\n",
    "# Matplotlib\n",
    "import matplotlib.pyplot as plt\n",
    "from matplotlib.colors import LogNorm\n",
    "from matplotlib import rcParams\n",
    "rcParams[\"font.family\"] = \"serif\"\n",
    "rcParams[\"font.serif\"] = \"Times New Roman\"\n",
    "%matplotlib inline\n",
    "rcParams['text.usetex'] = True\n",
    "rcParams['text.latex.preamble'] = [r'\\usepackage{amsmath} \\usepackage{bm} \\usepackage{physics}']\n",
    "%config InlineBackend.figure_format = 'retina' # For high quality figures\n",
    "%load_ext autoreload\n",
    "%autoreload 2"
   ]
  },
  {
   "cell_type": "code",
   "execution_count": 53,
   "metadata": {},
   "outputs": [],
   "source": [
    "data_folder = \"../data-2019-09-25-shane-joey-alex-arcelia\""
   ]
  },
  {
   "cell_type": "code",
   "execution_count": 54,
   "metadata": {},
   "outputs": [],
   "source": [
    "OVERWRITE = True"
   ]
  },
  {
   "cell_type": "markdown",
   "metadata": {},
   "source": [
    "## Median combine the biases, darks, flats and arcs"
   ]
  },
  {
   "cell_type": "code",
   "execution_count": 55,
   "metadata": {},
   "outputs": [],
   "source": [
    "biases_combined, header_biases = crawl_and_median(data_folder, 'biases')\n",
    "darks_combined, header_darks = crawl_and_median(data_folder, 'darks')\n",
    "flats_combined, header_flats = crawl_and_median(data_folder, 'flats')\n",
    "arcs_combined, header_arcs   = crawl_and_median(data_folder, 'arcs')"
   ]
  },
  {
   "cell_type": "markdown",
   "metadata": {},
   "source": [
    "## Make the masters"
   ]
  },
  {
   "cell_type": "code",
   "execution_count": 57,
   "metadata": {},
   "outputs": [],
   "source": [
    "darks_master = darks_combined - biases_combined\n",
    "flats_master = flats_combined - darks_master - biases_combined\n",
    "\n",
    "# Normalize the flat frame\n",
    "flats_master_normalized = flats_master / np.median(flats_master)\n",
    "foo_factor = 1.1 * np.abs(np.min(flats_master_normalized))\n",
    "\n",
    "# Calibrate the arc\n",
    "# Probably just stick to the combined arc\n",
    "arcs_master  = (arcs_combined  - biases_combined - darks_master) / (flats_master_normalized + foo_factor)\n",
    "arcs_foo_factor = 1.1 * np.abs(np.min(arcs_master))\n",
    "arcs_master  += arcs_foo_factor\n",
    "\n",
    "# Save the masters\n",
    "try:\n",
    "    fits.writeto(os.path.join(data_folder, 'masters/darks_master.fits'), \n",
    "                 darks_master, header=header_darks, overwrite=OVERWRITE)\n",
    "    \n",
    "    fits.writeto(os.path.join(data_folder, 'masters/biases_combined.fits'), \n",
    "                 biases_combined, header=header_biases, overwrite=OVERWRITE)\n",
    "    \n",
    "    fits.writeto(os.path.join(data_folder, 'masters/flats_master_normalized.fits'), \n",
    "                 flats_master_normalized, header=header_flats, overwrite=OVERWRITE)\n",
    "    \n",
    "    fits.writeto(os.path.join(data_folder, 'masters/arcs_combined.fits'),\n",
    "                arcs_combined, header=header_arcs, overwrite=OVERWRITE)\n",
    "    fits.writeto(os.path.join(data_folder, 'masters/arcs_master.fits'), \n",
    "                 arcs_master, header=header_arcs, overwrite=OVERWRITE)\n",
    "except:\n",
    "    print('Warning: Did not overwrite file.')"
   ]
  },
  {
   "cell_type": "code",
   "execution_count": null,
   "metadata": {},
   "outputs": [],
   "source": []
  }
 ],
 "metadata": {
  "kernelspec": {
   "display_name": "Python 3",
   "language": "python",
   "name": "python3"
  },
  "language_info": {
   "codemirror_mode": {
    "name": "ipython",
    "version": 3
   },
   "file_extension": ".py",
   "mimetype": "text/x-python",
   "name": "python",
   "nbconvert_exporter": "python",
   "pygments_lexer": "ipython3",
   "version": "3.7.3"
  }
 },
 "nbformat": 4,
 "nbformat_minor": 2
}
