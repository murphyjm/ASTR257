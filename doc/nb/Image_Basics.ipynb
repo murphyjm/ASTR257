{
 "cells": [
  {
   "cell_type": "markdown",
   "metadata": {},
   "source": [
    "# Image Basics"
   ]
  },
  {
   "cell_type": "code",
   "execution_count": 1,
   "metadata": {},
   "outputs": [],
   "source": [
    "# imports\n",
    "import os\n",
    "from pkg_resources import resource_filename\n",
    "import glob\n",
    "\n",
    "import subprocess\n",
    "\n",
    "import numpy as np\n",
    "\n",
    "from astropy.io import fits\n",
    "\n",
    "# ASTR 257\n",
    "from astr257 import img_utils"
   ]
  },
  {
   "cell_type": "markdown",
   "metadata": {},
   "source": [
    "# Image lists"
   ]
  },
  {
   "cell_type": "markdown",
   "metadata": {},
   "source": [
    "## Generate a dummy folder for this Notebook"
   ]
  },
  {
   "cell_type": "code",
   "execution_count": 2,
   "metadata": {},
   "outputs": [],
   "source": [
    "dummy_name = 'Dummy_folder'\n",
    "if not os.path.isdir(dummy_name):\n",
    "    os.mkdir(dummy_name)"
   ]
  },
  {
   "cell_type": "markdown",
   "metadata": {},
   "source": [
    "## Generate dummy \"images\" (the names are all that matter for what follows,)"
   ]
  },
  {
   "cell_type": "code",
   "execution_count": 3,
   "metadata": {},
   "outputs": [],
   "source": [
    "for ii in range(100):\n",
    "    subprocess.Popen(['touch', dummy_name+'/dummy{}.fits'.format(ii)])"
   ]
  },
  {
   "cell_type": "markdown",
   "metadata": {},
   "source": [
    "## Load em"
   ]
  },
  {
   "cell_type": "code",
   "execution_count": 4,
   "metadata": {},
   "outputs": [
    {
     "data": {
      "text/plain": [
       "['Dummy_folder/dummy22.fits',\n",
       " 'Dummy_folder/dummy75.fits',\n",
       " 'Dummy_folder/dummy63.fits',\n",
       " 'Dummy_folder/dummy34.fits',\n",
       " 'Dummy_folder/dummy18.fits']"
      ]
     },
     "execution_count": 4,
     "metadata": {},
     "output_type": "execute_result"
    }
   ],
   "source": [
    "dum_files = glob.glob(dummy_name+'/dummy*fits')\n",
    "dum_files[0:5]"
   ]
  },
  {
   "cell_type": "code",
   "execution_count": 5,
   "metadata": {},
   "outputs": [
    {
     "data": {
      "text/plain": [
       "['Dummy_folder/dummy0.fits',\n",
       " 'Dummy_folder/dummy1.fits',\n",
       " 'Dummy_folder/dummy10.fits',\n",
       " 'Dummy_folder/dummy11.fits',\n",
       " 'Dummy_folder/dummy12.fits']"
      ]
     },
     "execution_count": 5,
     "metadata": {},
     "output_type": "execute_result"
    }
   ],
   "source": [
    "dum_files.sort()\n",
    "dum_files[0:5]"
   ]
  },
  {
   "cell_type": "markdown",
   "metadata": {},
   "source": [
    "## Deal with funny sorting"
   ]
  },
  {
   "cell_type": "code",
   "execution_count": 6,
   "metadata": {},
   "outputs": [],
   "source": [
    "all_raw1 = glob.glob(os.path.join(dummy_name, 'dummy?.fits'))\n",
    "all_raw2 = glob.glob(os.path.join(dummy_name, 'dummy??.fits'))\n",
    "all_raw3 = glob.glob(os.path.join(dummy_name, 'dummy???.fits'))\n",
    "all_raw1.sort()\n",
    "all_raw2.sort()\n",
    "all_raw3.sort()\n",
    "\n",
    "all_raw = all_raw1 + all_raw2 + all_raw3"
   ]
  },
  {
   "cell_type": "code",
   "execution_count": 7,
   "metadata": {},
   "outputs": [
    {
     "data": {
      "text/plain": [
       "['Dummy_folder/dummy0.fits',\n",
       " 'Dummy_folder/dummy1.fits',\n",
       " 'Dummy_folder/dummy2.fits',\n",
       " 'Dummy_folder/dummy3.fits',\n",
       " 'Dummy_folder/dummy4.fits']"
      ]
     },
     "execution_count": 7,
     "metadata": {},
     "output_type": "execute_result"
    }
   ],
   "source": [
    "all_raw[0:5]"
   ]
  },
  {
   "cell_type": "markdown",
   "metadata": {},
   "source": [
    "# Load an image"
   ]
  },
  {
   "cell_type": "code",
   "execution_count": 8,
   "metadata": {},
   "outputs": [],
   "source": [
    "# Test image from our Repo\n",
    "tst_file = os.path.join(resource_filename('astr257', 'data'), 'images', 'd23.fits.gz')"
   ]
  },
  {
   "cell_type": "code",
   "execution_count": 9,
   "metadata": {},
   "outputs": [
    {
     "data": {
      "text/plain": [
       "True"
      ]
     },
     "execution_count": 9,
     "metadata": {},
     "output_type": "execute_result"
    }
   ],
   "source": [
    "os.path.isfile(tst_file)"
   ]
  },
  {
   "cell_type": "markdown",
   "metadata": {},
   "source": [
    "## Load into an HDU List"
   ]
  },
  {
   "cell_type": "code",
   "execution_count": 10,
   "metadata": {},
   "outputs": [],
   "source": [
    "hdul = fits.open(tst_file)"
   ]
  },
  {
   "cell_type": "markdown",
   "metadata": {},
   "source": [
    "### Inspect the HDU List"
   ]
  },
  {
   "cell_type": "code",
   "execution_count": 11,
   "metadata": {},
   "outputs": [
    {
     "name": "stdout",
     "output_type": "stream",
     "text": [
      "Filename: /Users/josephmurphy/Documents/UCSC/2019-20/Fall/ASTR257/astr257/data/images/d23.fits.gz\n",
      "No.    Name      Ver    Type      Cards   Dimensions   Format\n",
      "  0  PRIMARY       1 PrimaryHDU     153   (1056, 1024)   int16 (rescales to uint16)   \n"
     ]
    }
   ],
   "source": [
    "hdul.info()"
   ]
  },
  {
   "cell_type": "markdown",
   "metadata": {},
   "source": [
    "### Load the Header"
   ]
  },
  {
   "cell_type": "code",
   "execution_count": 12,
   "metadata": {},
   "outputs": [],
   "source": [
    "head0 = hdul[0].header"
   ]
  },
  {
   "cell_type": "code",
   "execution_count": 13,
   "metadata": {},
   "outputs": [
    {
     "data": {
      "text/plain": [
       "SIMPLE  =                    T / NORMAL FITS IMAGE                              \n",
       "BITPIX  =                   16 / DATA PRECISION                                 \n",
       "NAXIS   =                    2 / NUMBER OF IMAGE DIMENSIONS                     \n",
       "NAXIS1  =                 1056 / NUMBER OF COLUMNS                              \n",
       "NAXIS2  =                 1024 / NUMBER OF ROWS                                 \n",
       "CRVAL1U =                 2048 / COLUMN ORIGIN                                  \n",
       "CRVAL2U =                 2048 / ROW ORIGIN                                     \n",
       "CDELT1U =                   -2 / COLUMN CHANGE PER PIXEL                        \n",
       "CDELT2U =                   -2 / ROW CHANGE PER PIXEL                           \n",
       "OBSNUM  =                   23 / OBSERVATION NUMBER                             \n",
       "IDNUM   =                    7 / IMAGE ID                                       \n",
       "UGEOM   =                    0 / UCAM READOUT GEOMETRY                          \n",
       "DGEOM   =                    0 / DESCRAMBLE GEOMETRY                            \n",
       "AMPSROW =                    1 / AMPLIFIERS PER ROW                             \n",
       "AMPSCOL =                    1 / AMPLIFIERS PER COLUMN                          \n",
       "OBSTYPE = 'OBJECT'             / IMAGE TYPE                                     \n",
       "EXPTIME =                  200 / Exp time (not counting shutter error)          \n",
       "BSCALE  =                    1 / DATA SCALE FACTOR                              \n",
       "BZERO   =                32768 / DATA ZERO POINT                                \n",
       "COMMENT    Real Value = FITS*BSCALE+BZERO                                       \n",
       "PROGRAM = 'NEWCAM'             / New Lick Camera                                \n",
       "VERSION = 'nickel_direct'      / Data acquisition version                       \n",
       "TSEC    =           1461722785 / CLOCK TICK - SECONDS                           \n",
       "TUSEC   =               915782 / CLOCK TICK - MICROSECONDS                      \n",
       "DATE    = '2016-04-27T02:06:25.91' / UT of CCD readout & descramble             \n",
       "DATASEC = '[1:1024,1:1024]'        / IRAF/NOAO-style data section               \n",
       "COMMENT End of cards hard-coded in fits_cards                                   \n",
       "COMMENT Begin of cards from other times                                         \n",
       "ERPBIN  =                    5 / PARALLEL BINNING DURING ERASE                  \n",
       "ERASE   =                    3 / NUMBER OF ERASES                               \n",
       "PSKIP   =                    0 / CONTROLS POST-IMAGE SKIPPING                   \n",
       "CSMP    =                    1 / DCS CAP SELECTION                              \n",
       "CSELPRD =                    0 / PREREAD CLOCK SELECTION                        \n",
       "SCLEAN  =                    0 / SERIAL CLEANING CLOCK SELECTION                \n",
       "BINPRD  =                    0 / PREREAD SERIAL BINNING                         \n",
       "BINSCLN =                    0 / BINNING FOR SERIAL CLEAN                       \n",
       "PPRERD  =                    4 / PRE-IMAGE ROWS                                 \n",
       "PFREQ   =                    1 / PARALLEL CLOCK PERIOD                          \n",
       "PADDC   =                    0 / PARALLEL CLOCK CAPACITOR SELECTION             \n",
       "NSTIME  =                   32 / CONTROLS RISING TIME FOR SUBSTRATE             \n",
       "VSUBEX  =                    0 / SUBSTRATE VOLTAGE DURING EXPOSURE              \n",
       "VSUBER  =                    0 / SUBSTRATE VOLTAGE DURING ERASE                 \n",
       "NHBESP  =                   32 / BINNING FOR SPECIAL ERASE                      \n",
       "MERSP   =                    0 / CONTROLS SPECIAL ERASE MODE                    \n",
       "TCPR1   =                    4 / PRE-IMAGE SERIAL PIXELS                        \n",
       "TSPRD   =                   40 / SAMPLE TIME IN 0.1 MICROSECOND UNITS           \n",
       "TSCLEAN =                   40 / SERIAL CLEAN SAMPLE TIME                       \n",
       "SFREQ   =                    2 / SERIAL CLOCK PERIOD                            \n",
       "SADDC   =                    2 / SERIAL CLOCK CAP SELECTION                     \n",
       "REVERASE=                    0 / NUMBER OF REVERSE ERASES                       \n",
       "TCPR2   =                    4 / POST-IMAGE SERIAL PIXELS BEFORE OVERSCAN       \n",
       "CSYER2  =     0.01666669920087 / systematic error along direction of WCS axis i \n",
       "CSYER1  =     0.01666669920087 / systematic error along direction of WCS axis i \n",
       "CRDER2  =   5.139999848325E-05 / random error along direction of WCS axis i     \n",
       "CRDER1  =   5.139999848325E-05 / random error along direction of WCS axis i     \n",
       "CD2_2   =  -0.0001027239995892 / CTM element i_j from FITS axis j to WCS axis i \n",
       "CD2_1   =   3.946270226152E-06 / CTM element i_j from FITS axis j to WCS axis i \n",
       "CD1_2   =  -3.946270226152E-06 / CTM element i_j from FITS axis j to WCS axis i \n",
       "CD1_1   =  -0.0001027239995892 / CTM element i_j from FITS axis j to WCS axis i \n",
       "CRVAL2  =      -5.102383136749 / coord value of WCS axis i at ref pixel         \n",
       "CRVAL1  =       125.0252532959 / coord value of WCS axis i at ref pixel         \n",
       "CRPIX2  =                  512 / reference pixel along FITS axis j              \n",
       "CRPIX1  =                  512 / reference pixel along FITS axis j              \n",
       "CUNIT2  = 'deg               ' / unit of WCS axis i                             \n",
       "CUNIT1  = 'deg               ' / unit of WCS axis i                             \n",
       "EQUINOX =                 2000 / date of celestial reference frame              \n",
       "RADECSYS= 'FK5               ' / reference system for celestial coordinates     \n",
       "CNAME2  = 'Declination       ' / name of WCS axis i                             \n",
       "CNAME1  = 'Right Ascension   ' / name of WCS axis i                             \n",
       "CTYPE2  = 'DEC--TAN          ' / type of WCS axis i                             \n",
       "CTYPE1  = 'RA---TAN          ' / type of WCS axis i                             \n",
       "WCSNAME = 'Celestial coordinates' / name of WCS                                 \n",
       "CRVAL2C =                    0 / coord value of WCS axis i at ref pixel         \n",
       "CRVAL1C =                    0 / coord value of WCS axis i at ref pixel         \n",
       "CRVAL2S =      -5.102383136749 / coord value of WCS axis i at ref pixel         \n",
       "CRVAL1S =       125.0252532959 / coord value of WCS axis i at ref pixel         \n",
       "CSYER2C =                    0 / systematic error along direction of WCS axis i \n",
       "CSYER1C =                    0 / systematic error along direction of WCS axis i \n",
       "CRDER2C =                    0 / random error along direction of WCS axis i     \n",
       "CRDER1C =                    0 / random error along direction of WCS axis i     \n",
       "CD2_2C  =                   -2 / CTM element i_j from FITS axis j to WCS axis i \n",
       "CD2_1C  =                    0 / CTM element i_j from FITS axis j to WCS axis i \n",
       "CD1_2C  =                    0 / CTM element i_j from FITS axis j to WCS axis i \n",
       "CD1_1C  =                   -2 / CTM element i_j from FITS axis j to WCS axis i \n",
       "CRPIX2C =                  0.5 / reference pixel along FITS axis j              \n",
       "CRPIX1C =                  0.5 / reference pixel along FITS axis j              \n",
       "CUNIT2C = 'CCDpix            ' / unit of WCS axis i                             \n",
       "CUNIT1C = 'CCDpix            ' / unit of WCS axis i                             \n",
       "CNAME2C = 'CCD Y pixel       ' / name of WCS axis i                             \n",
       "CNAME1C = 'CCD X pixel       ' / name of WCS axis i                             \n",
       "CTYPE2C = 'linear            ' / type of WCS axis i                             \n",
       "CTYPE1C = 'linear            ' / type of WCS axis i                             \n",
       "WCSNAMEC= 'CCD pixel coordinates' / name of WCS                                 \n",
       "CSYER2S =     0.01666669920087 / systematic error along direction of WCS axis i \n",
       "CSYER1S =     0.01666669920087 / systematic error along direction of WCS axis i \n",
       "CRDER2S =   5.139999848325E-05 / random error along direction of WCS axis i     \n",
       "CRDER1S =   5.139999848325E-05 / random error along direction of WCS axis i     \n",
       "CD2_2S  =  -0.0001027239995892 / CTM element i_j from FITS axis j to WCS axis i \n",
       "CD2_1S  =   3.946270226152E-06 / CTM element i_j from FITS axis j to WCS axis i \n",
       "CD1_2S  =  -3.946270226152E-06 / CTM element i_j from FITS axis j to WCS axis i \n",
       "CD1_1S  =  -0.0001027239995892 / CTM element i_j from FITS axis j to WCS axis i \n",
       "CRPIX2S =                  512 / reference pixel along FITS axis j              \n",
       "CRPIX1S =                  512 / reference pixel along FITS axis j              \n",
       "CUNIT2S = 'deg               ' / unit of WCS axis i                             \n",
       "CUNIT1S = 'deg               ' / unit of WCS axis i                             \n",
       "EQUINOXS=                 2000 / date of celestial reference frame              \n",
       "RADESYSS= 'FK5               ' / reference system for celestial coordinates     \n",
       "CNAME2S = 'Declination       ' / name of WCS axis i                             \n",
       "CNAME1S = 'Right Ascension   ' / name of WCS axis i                             \n",
       "CTYPE2S = 'DEC--TAN          ' / type of WCS axis i                             \n",
       "CTYPE1S = 'RA---TAN          ' / type of WCS axis i                             \n",
       "WCSNAMES= 'Celestial coordinates' / name of WCS                                 \n",
       "AIRMASS =        1.35341835022 / AIRMASS AT START OF OBSERVATION                \n",
       "HA      = '-0:02:17.61       ' / HOUR ANGLE                                     \n",
       "DEC     = '-5:06:04.6        ' / DECLINATION                                    \n",
       "RA      = '08:23:35.31       ' / RIGHT ASCENSION                                \n",
       "DATE-BEG= '2016-04-27T02:03:05.29' / START OF OBSERVATION                       \n",
       "EQUINOXU=       2016.319946289 / EPOCH FOR POCO POSITION IS CURRENT DATE        \n",
       "OBSERVER= 'Cee Gould, Sam Yunus' / OBSERVER NAME                                \n",
       "APERNAM = 'Open              ' / APERTURE POSITION NAME                         \n",
       "INSTRUME= 'Nickel Direct Camera'                                                \n",
       "TUB     =                    0 / TELESCOPE TUB ROTATION                         \n",
       "APERRAW =                 1250 / APERTURE RAW POSITION                          \n",
       "FILTRAW =                 1893 / FILTER RAW POSITION                            \n",
       "FILTORD =                    1 / FILTER ORDINAL POSITION                        \n",
       "APERORD =                    0 / APERTURE ORDINAL POSITION                      \n",
       "FILTNAM = 'B                 ' / FILTER POSITION NAME                           \n",
       "DATE-END= '2016-04-27T02:06:25.30' / END OF OBSERVATION                         \n",
       "GEOMCODE=                    0 / READOUT GEOMETRY                               \n",
       "DSENSOR = 'Loral 2Kx2K       ' / SENSOR DESCRIPTION                             \n",
       "DNAXIS2 =                 2048 / ROWS IN SENSOR                                 \n",
       "DNAXIS1 =                 2048 / COLUMNS IN SENSOR                              \n",
       "UCAMADC = '4-amp QADC        ' / UCAM ADC BOARDS                                \n",
       "UCAMCDB = 'New CDB           ' / UCAM CDB BOARDS                                \n",
       "CAMERAID=                    2 / CAMERA ID NUMBER                               \n",
       "UCAMSPB = '2 DSPB            ' / UCAM SPB BOARDS                                \n",
       "UCAMSOFT= '4.08 052011       ' / UCAM SOFTWARE VERSION                          \n",
       "UCAMTIM = 'New Timing        ' / UCAM TIMING BOARDS                             \n",
       "GAIN    =                    1 / DCS GAIN INDEX                                 \n",
       "TEMPCON =                  9.5 / CONTROLLER TEMPERATURE                         \n",
       "NCSHIFT =                    0 / NUMBER OF CHARGE SHUFFLES                      \n",
       "RCSHIFT =                    0 / NUMBER OF ROWS IN EACH CHARGE SHUFFLE          \n",
       "ROVER   =                    0 / NUMBER OF OVERSCAN ROWS                        \n",
       "COVER   =                   32 / NUMBER OF OVERSCAN COLUMNS                     \n",
       "MPP     =                    1 / MPP STATE                                      \n",
       "TEMPDET =      -103.4000015259 / EXPOSURE START DETECTOR TEMPERATURE            \n",
       "TEMPDETE=                    0 / EXPOSURE END DETECTOR TEMPERATURE              \n",
       "READ-SPD=                   80 / DCS READ SPEED                                 \n",
       "OBJECT  = 'DomeFlat_B        '                                                  \n",
       "CKSUMOK =                    T / cd: CHECKSUMS MATCH                            \n",
       "CAMCKSUM=                 7033 / cd: CAMERA-COMPUTED CHECKSUM                   \n",
       "SFTCKSUM=                 7033 / cd: SOFTWARE-COMPUTED CHECKSUM                 \n",
       "COMMENT End of cards from other times                                           "
      ]
     },
     "execution_count": 13,
     "metadata": {},
     "output_type": "execute_result"
    }
   ],
   "source": [
    "# Inspect\n",
    "head0"
   ]
  },
  {
   "cell_type": "code",
   "execution_count": 14,
   "metadata": {},
   "outputs": [
    {
     "data": {
      "text/plain": [
       "1056"
      ]
     },
     "execution_count": 14,
     "metadata": {},
     "output_type": "execute_result"
    }
   ],
   "source": [
    "# This object is dict-like\n",
    "head0['NAXIS1']"
   ]
  },
  {
   "cell_type": "code",
   "execution_count": 15,
   "metadata": {},
   "outputs": [
    {
     "data": {
      "text/plain": [
       "999"
      ]
     },
     "execution_count": 15,
     "metadata": {},
     "output_type": "execute_result"
    }
   ],
   "source": [
    "# And malleable (so be careful with it)\n",
    "head0['NAXIS2'] = 999\n",
    "head0['NAXIS2']"
   ]
  },
  {
   "cell_type": "markdown",
   "metadata": {},
   "source": [
    "## Load the data"
   ]
  },
  {
   "cell_type": "code",
   "execution_count": 16,
   "metadata": {},
   "outputs": [],
   "source": [
    "data = hdul[0].data"
   ]
  },
  {
   "cell_type": "code",
   "execution_count": 17,
   "metadata": {},
   "outputs": [
    {
     "data": {
      "text/plain": [
       "array([[1453, 1356, 1396, ..., 1130, 1133, 1128],\n",
       "       [2033, 1642, 1672, ..., 1134, 1140, 1138],\n",
       "       [2210, 1667, 1659, ..., 1142, 1134, 1133],\n",
       "       ...,\n",
       "       [1623, 1359, 1362, ..., 1150, 1155, 1156],\n",
       "       [1568, 1350, 1332, ..., 1156, 1155, 1157],\n",
       "       [1645, 1441, 1408, ..., 1152, 1161, 1151]], dtype=uint16)"
      ]
     },
     "execution_count": 17,
     "metadata": {},
     "output_type": "execute_result"
    }
   ],
   "source": [
    "data  # Note, these are unit16!  Python can do things with these you might not expect"
   ]
  },
  {
   "cell_type": "code",
   "execution_count": 18,
   "metadata": {},
   "outputs": [
    {
     "data": {
      "text/plain": [
       "array([[1453., 1356., 1396., ..., 1130., 1133., 1128.],\n",
       "       [2033., 1642., 1672., ..., 1134., 1140., 1138.],\n",
       "       [2210., 1667., 1659., ..., 1142., 1134., 1133.],\n",
       "       ...,\n",
       "       [1623., 1359., 1362., ..., 1150., 1155., 1156.],\n",
       "       [1568., 1350., 1332., ..., 1156., 1155., 1157.],\n",
       "       [1645., 1441., 1408., ..., 1152., 1161., 1151.]])"
      ]
     },
     "execution_count": 18,
     "metadata": {},
     "output_type": "execute_result"
    }
   ],
   "source": [
    "### Convert to float\n",
    "data = data.astype(float)  # float64, which is excessive but standard for Python\n",
    "data"
   ]
  },
  {
   "cell_type": "markdown",
   "metadata": {},
   "source": [
    "----"
   ]
  },
  {
   "cell_type": "markdown",
   "metadata": {},
   "source": [
    "# View an Image (with Ginga)"
   ]
  },
  {
   "cell_type": "markdown",
   "metadata": {},
   "source": [
    "## Need to launch the Ginga window first, from your terminal\n",
    "    ginga --modules=RC"
   ]
  },
  {
   "cell_type": "code",
   "execution_count": 20,
   "metadata": {},
   "outputs": [],
   "source": [
    "# Now a handy method we provide\n",
    "img_utils.view_in_ginga(data)"
   ]
  },
  {
   "cell_type": "markdown",
   "metadata": {},
   "source": [
    "----"
   ]
  },
  {
   "cell_type": "markdown",
   "metadata": {},
   "source": [
    "# Write a new image"
   ]
  },
  {
   "cell_type": "code",
   "execution_count": 21,
   "metadata": {},
   "outputs": [],
   "source": [
    "data2 = data*10."
   ]
  },
  {
   "cell_type": "markdown",
   "metadata": {},
   "source": [
    "## Generate a Primary HDU\n",
    "    # This are frequently 'empty' but ours will contain the image"
   ]
  },
  {
   "cell_type": "code",
   "execution_count": 22,
   "metadata": {},
   "outputs": [
    {
     "data": {
      "text/plain": [
       "SIMPLE  =                    T / conforms to FITS standard                      \n",
       "BITPIX  =                  -64 / array data type                                \n",
       "NAXIS   =                    2 / number of array dimensions                     \n",
       "NAXIS1  =                 1056                                                  \n",
       "NAXIS2  =                 1024                                                  \n",
       "EXTEND  =                    T                                                  "
      ]
     },
     "execution_count": 22,
     "metadata": {},
     "output_type": "execute_result"
    }
   ],
   "source": [
    "phdu = fits.PrimaryHDU(data2)\n",
    "phdu.header"
   ]
  },
  {
   "cell_type": "markdown",
   "metadata": {},
   "source": [
    "## Generate an HDUList"
   ]
  },
  {
   "cell_type": "code",
   "execution_count": 29,
   "metadata": {},
   "outputs": [],
   "source": [
    "hdul2 = fits.HDUList([phdu])"
   ]
  },
  {
   "cell_type": "markdown",
   "metadata": {},
   "source": [
    "## Write to FITS"
   ]
  },
  {
   "cell_type": "code",
   "execution_count": 31,
   "metadata": {},
   "outputs": [],
   "source": [
    "hdul2.writeto('tmp.fits', overwrite=True)"
   ]
  },
  {
   "cell_type": "code",
   "execution_count": null,
   "metadata": {},
   "outputs": [],
   "source": []
  }
 ],
 "metadata": {
  "kernelspec": {
   "display_name": "Python 3",
   "language": "python",
   "name": "python3"
  },
  "language_info": {
   "codemirror_mode": {
    "name": "ipython",
    "version": 3
   },
   "file_extension": ".py",
   "mimetype": "text/x-python",
   "name": "python",
   "nbconvert_exporter": "python",
   "pygments_lexer": "ipython3",
   "version": "3.7.3"
  }
 },
 "nbformat": 4,
 "nbformat_minor": 2
}
