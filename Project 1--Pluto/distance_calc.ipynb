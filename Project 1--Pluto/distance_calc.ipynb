{
 "cells": [
  {
   "cell_type": "code",
   "execution_count": 15,
   "metadata": {},
   "outputs": [
    {
     "name": "stdout",
     "output_type": "stream",
     "text": [
      "The autoreload extension is already loaded. To reload it, use:\n",
      "  %reload_ext autoreload\n"
     ]
    }
   ],
   "source": [
    "# imports\n",
    "import os\n",
    "from pkg_resources import resource_filename\n",
    "import os\n",
    "import numpy as np\n",
    "from astropy.io import fits\n",
    "\n",
    "# ASTR 257\n",
    "from astr257 import img_utils\n",
    "\n",
    "from utils import *\n",
    "%load_ext autoreload\n",
    "%autoreload 2"
   ]
  },
  {
   "cell_type": "code",
   "execution_count": 18,
   "metadata": {},
   "outputs": [],
   "source": [
    "PC_TO_M = 3.06e+16\n",
    "PC_TO_AU = 206265"
   ]
  },
  {
   "cell_type": "markdown",
   "metadata": {},
   "source": [
    "## Enter Pluto and reference star coordinates for each night (from DS9 centroiding)"
   ]
  },
  {
   "cell_type": "code",
   "execution_count": 17,
   "metadata": {},
   "outputs": [
    {
     "name": "stdout",
     "output_type": "stream",
     "text": [
      "Pluto separation between nights 1 and 2 = 20.4883 arcseconds\n"
     ]
    }
   ],
   "source": [
    "from astropy import units as u\n",
    "from astropy.coordinates import SkyCoord\n",
    "\n",
    "pluto_1 = SkyCoord('19h28m33.2068s', '-22d24m14.019s', frame='fk5')\n",
    "pluto_2 = SkyCoord('19h28m31.8547s', '-22d24m05.762s', frame='fk5')\n",
    "pluto_sep = pluto_1.separation(pluto_2)\n",
    "\n",
    "print('Pluto separation between nights 1 and 2 = {:.4f} arcseconds'.format(pluto_sep.arcsecond))"
   ]
  },
  {
   "cell_type": "code",
   "execution_count": 20,
   "metadata": {},
   "outputs": [
    {
     "name": "stdout",
     "output_type": "stream",
     "text": [
      "Distance to Pluto from Earth = 1.0067E+04 AU\n",
      "Distance to Pluto from Earth = 1.4935E+15 m\n"
     ]
    }
   ],
   "source": [
    "# Using parallax approximation\n",
    "# pluto_distance_pc = 1./pluto_sep.arcsecond\n",
    "# pluto_distance_AU = pluto_distance_pc * PC_TO_AU\n",
    "# pluto_distance_m  = pluto_distance_pc * PC_TO_M\n",
    "# print('Distance to Pluto from Earth = {:.4E} AU'.format(pluto_distance_AU))\n",
    "# print('Distance to Pluto from Earth = {:.4E} m'.format(pluto_distance_m))"
   ]
  },
  {
   "cell_type": "code",
   "execution_count": 23,
   "metadata": {},
   "outputs": [
    {
     "name": "stdout",
     "output_type": "stream",
     "text": [
      "Distance to Pluto from Earth = 1.7330E+02 AU\n"
     ]
    }
   ],
   "source": [
    "# Parallax ^^ is wrong to assume length on base of triangle is 1 AU\n",
    "distance_AU = (2*np.pi * 1. / 365.) / np.tan(pluto_sep.radian)\n",
    "print('Distance to Pluto from Earth = {:.4E} AU'.format(distance_AU))"
   ]
  },
  {
   "cell_type": "code",
   "execution_count": null,
   "metadata": {},
   "outputs": [],
   "source": []
  }
 ],
 "metadata": {
  "kernelspec": {
   "display_name": "Python 3",
   "language": "python",
   "name": "python3"
  },
  "language_info": {
   "codemirror_mode": {
    "name": "ipython",
    "version": 3
   },
   "file_extension": ".py",
   "mimetype": "text/x-python",
   "name": "python",
   "nbconvert_exporter": "python",
   "pygments_lexer": "ipython3",
   "version": "3.7.3"
  }
 },
 "nbformat": 4,
 "nbformat_minor": 2
}
