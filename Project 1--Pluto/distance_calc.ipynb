{
 "cells": [
  {
   "cell_type": "code",
   "execution_count": 47,
   "metadata": {},
   "outputs": [],
   "source": [
    "# imports\n",
    "import os\n",
    "from pkg_resources import resource_filename\n",
    "import os\n",
    "import numpy as np\n",
    "from astropy.io import fits\n",
    "\n",
    "# ASTR 257\n",
    "from astr257 import img_utils"
   ]
  },
  {
   "cell_type": "code",
   "execution_count": 17,
   "metadata": {},
   "outputs": [],
   "source": [
    "PC_TO_M = 3.06e+16\n",
    "PC_TO_AU = 206265\n",
    "M_TO_AU = 6.68459e-12"
   ]
  },
  {
   "cell_type": "markdown",
   "metadata": {},
   "source": [
    "## Enter Pluto and reference star coordinates for each night (from DS9 centroiding)\n",
    "\n",
    "Pluto night 1 and 2 files: \n",
    "    - Night 1: data-2019-09-22-nickel-joey-vivian/masters/pluto_master_full_cal_night_1.fits\n",
    "    - Night 2: data-2019-09-23-nickel-joey-vivian/masters/pluto_master_full_cal_night_2.fits"
   ]
  },
  {
   "cell_type": "code",
   "execution_count": 3,
   "metadata": {},
   "outputs": [
    {
     "name": "stdout",
     "output_type": "stream",
     "text": [
      "Pluto separation between nights 1 and 2 = 20.4883 arcseconds\n"
     ]
    }
   ],
   "source": [
    "from astropy import units as u\n",
    "from astropy.coordinates import SkyCoord\n",
    "\n",
    "pluto_1 = SkyCoord('19h28m33.2068s', '-22d24m14.019s', frame='fk5') # Measured from centroiding in DS9\n",
    "pluto_2 = SkyCoord('19h28m31.8547s', '-22d24m05.762s', frame='fk5') # Measured from centroiding in DS9\n",
    "pluto_sep = pluto_1.separation(pluto_2)\n",
    "\n",
    "print('Pluto separation between nights 1 and 2 = {:.4f} arcseconds'.format(pluto_sep.arcsecond))"
   ]
  },
  {
   "cell_type": "code",
   "execution_count": 4,
   "metadata": {},
   "outputs": [
    {
     "name": "stdout",
     "output_type": "stream",
     "text": [
      "Distance to Pluto from Earth = 1.7330E+02 AU\n"
     ]
    }
   ],
   "source": [
    "# Doing nothing to compensate for the opposition assumption\n",
    "distance_AU = (2*np.pi * 1. / 365.) / np.tan(pluto_sep.radian)\n",
    "print('Distance to Pluto from Earth = {:.4E} AU'.format(distance_AU))"
   ]
  },
  {
   "cell_type": "code",
   "execution_count": null,
   "metadata": {},
   "outputs": [],
   "source": []
  },
  {
   "cell_type": "markdown",
   "metadata": {},
   "source": [
    "## Distance calculation correcting for opposition and using velocities"
   ]
  },
  {
   "cell_type": "code",
   "execution_count": 46,
   "metadata": {},
   "outputs": [],
   "source": [
    "from astropy import constants as const"
   ]
  },
  {
   "cell_type": "code",
   "execution_count": 37,
   "metadata": {},
   "outputs": [],
   "source": [
    "omega_meas = pluto_sep.radian / (24. * 60. * 60.) # Rads/s\n",
    "phi = np.pi - ((7 + 28./60 + 32.5/3600.)*15 * 2*np.pi / 360.) # Converts 7h28m32.5m to radians"
   ]
  },
  {
   "cell_type": "code",
   "execution_count": 38,
   "metadata": {},
   "outputs": [
    {
     "name": "stdout",
     "output_type": "stream",
     "text": [
      "Distance to Pluto from Earth = 15.21 AU\n"
     ]
    }
   ],
   "source": [
    "r = np.cbrt(const.G * const.M_sun / (omega_meas / u.second / np.cos(phi))**2) # Radius of orbit around the Sun\n",
    "print('Distance to Pluto from Earth = {:.4}'.format(r.to(u.AU) - 1 * u.AU)) # Subtract 1 AU to get distance from Earth"
   ]
  },
  {
   "cell_type": "code",
   "execution_count": 44,
   "metadata": {},
   "outputs": [],
   "source": [
    "theta = (1 + 28./60. + 32.5/3600.)*15 * 2*np.pi /360."
   ]
  },
  {
   "cell_type": "code",
   "execution_count": 45,
   "metadata": {},
   "outputs": [
    {
     "name": "stdout",
     "output_type": "stream",
     "text": [
      "Distance to Pluto from Earth = 28.52 AU\n"
     ]
    }
   ],
   "source": [
    "r_new = np.cbrt(const.G * const.M_sun / (omega_meas / u.second / np.cos(theta))**2)\n",
    "print('Distance to Pluto from Earth = {:.4}'.format(r_new.to(u.AU) - 1 * u.AU))\n",
    "# Subtract 1 AU to get distance from Earth"
   ]
  },
  {
   "cell_type": "code",
   "execution_count": null,
   "metadata": {},
   "outputs": [],
   "source": []
  }
 ],
 "metadata": {
  "kernelspec": {
   "display_name": "Python 3",
   "language": "python",
   "name": "python3"
  },
  "language_info": {
   "codemirror_mode": {
    "name": "ipython",
    "version": 3
   },
   "file_extension": ".py",
   "mimetype": "text/x-python",
   "name": "python",
   "nbconvert_exporter": "python",
   "pygments_lexer": "ipython3",
   "version": "3.7.3"
  }
 },
 "nbformat": 4,
 "nbformat_minor": 2
}
