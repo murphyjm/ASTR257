{
 "cells": [
  {
   "cell_type": "code",
   "execution_count": 1,
   "metadata": {},
   "outputs": [],
   "source": [
    "# Math\n",
    "import numpy as np\n",
    "\n",
    "# Astropy\n",
    "from astropy import units as u\n",
    "from astropy.coordinates import SkyCoord\n",
    "from astropy.io import fits"
   ]
  },
  {
   "cell_type": "markdown",
   "metadata": {},
   "source": [
    "## Enter Pluto coordinates for each night (from DS9 centroiding)\n",
    "\n",
    "Pluto night 1 and 2 files: \n",
    "    - Night 1: data-2019-09-22-nickel-joey-vivian/masters/pluto_master_full_cal_night_1.fits\n",
    "    - Night 2: data-2019-09-23-nickel-joey-vivian/masters/pluto_master_full_cal_night_2.fits"
   ]
  },
  {
   "cell_type": "code",
   "execution_count": 2,
   "metadata": {},
   "outputs": [],
   "source": [
    "pluto_1 = SkyCoord('19h28m33.2068s', '-22d24m14.019s', frame='fk5') # Measured from centroiding in DS9\n",
    "pluto_2 = SkyCoord('19h28m31.8547s', '-22d24m05.762s', frame='fk5') # Measured from centroiding in DS9\n",
    "pluto_sep = pluto_1.separation(pluto_2)"
   ]
  },
  {
   "cell_type": "code",
   "execution_count": 3,
   "metadata": {},
   "outputs": [],
   "source": [
    "gamma = ((1 + 28/60 + 32.5/3600) * 15) * 2 * np.pi / 360 # Radians (converts 1h28m32.5m to radians)"
   ]
  },
  {
   "cell_type": "markdown",
   "metadata": {},
   "source": [
    "*Note: Changed cell below factor of (2 * np.pi / 360) --> (2 * np.pi / 365)*"
   ]
  },
  {
   "cell_type": "code",
   "execution_count": 4,
   "metadata": {},
   "outputs": [],
   "source": [
    "d = np.sin(gamma) * (2*np.pi / 365) / np.sin(pluto_sep.radian) # In AU"
   ]
  },
  {
   "cell_type": "code",
   "execution_count": 5,
   "metadata": {},
   "outputs": [
    {
     "name": "stdout",
     "output_type": "stream",
     "text": [
      "Distance to Pluto from Earth = 65.3 AU\n"
     ]
    }
   ],
   "source": [
    "print('Distance to Pluto from Earth = {:.4} AU'.format(d))"
   ]
  },
  {
   "cell_type": "code",
   "execution_count": null,
   "metadata": {},
   "outputs": [],
   "source": []
  }
 ],
 "metadata": {
  "kernelspec": {
   "display_name": "Python 3",
   "language": "python",
   "name": "python3"
  },
  "language_info": {
   "codemirror_mode": {
    "name": "ipython",
    "version": 3
   },
   "file_extension": ".py",
   "mimetype": "text/x-python",
   "name": "python",
   "nbconvert_exporter": "python",
   "pygments_lexer": "ipython3",
   "version": "3.7.3"
  }
 },
 "nbformat": 4,
 "nbformat_minor": 2
}
