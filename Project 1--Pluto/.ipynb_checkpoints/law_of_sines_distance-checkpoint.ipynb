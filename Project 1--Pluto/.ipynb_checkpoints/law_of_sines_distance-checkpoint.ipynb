{
 "cells": [
  {
   "cell_type": "code",
   "execution_count": 2,
   "metadata": {},
   "outputs": [],
   "source": [
    "# Math\n",
    "import numpy as np\n",
    "\n",
    "# Astropy\n",
    "from astropy import units as u\n",
    "from astropy.coordinates import SkyCoord\n",
    "from astropy.io import fits"
   ]
  },
  {
   "cell_type": "markdown",
   "metadata": {},
   "source": [
    "## Enter Pluto coordinates for each night (from DS9 centroiding)\n",
    "\n",
    "Pluto night 1 and 2 files: \n",
    "    - Night 1: data-2019-09-22-nickel-joey-vivian/masters/pluto_master_full_cal_night_1.fits\n",
    "    - Night 2: data-2019-09-23-nickel-joey-vivian/masters/pluto_master_full_cal_night_2.fits"
   ]
  },
  {
   "cell_type": "code",
   "execution_count": 3,
   "metadata": {},
   "outputs": [],
   "source": [
    "pluto_1 = SkyCoord('19h28m33.2068s', '-22d24m14.019s', frame='fk5') # Measured from centroiding in DS9\n",
    "pluto_2 = SkyCoord('19h28m31.8547s', '-22d24m05.762s', frame='fk5') # Measured from centroiding in DS9\n",
    "\n",
    "pluto_1_img_coords = np.array([478.69052, 474.40184])\n",
    "pluto_2_img_coords = np.array([527.33795, 457.73543])\n",
    "\n",
    "ref_1 = np.array([231.34983, 517.45652])\n",
    "ref_2 = np.array([237.64558, 480.32333])\n",
    "\n",
    "disp = ref_2 - ref_1\n",
    "pluto_disp_img_coords = pluto_2_img_coords - pluto_1_img_coords - disp\n",
    "pluto_sep = pluto_1.separation(pluto_2)"
   ]
  },
  {
   "cell_type": "code",
   "execution_count": 12,
   "metadata": {},
   "outputs": [
    {
     "data": {
      "text/latex": [
       "$0^\\circ00{}^\\prime20.4883{}^{\\prime\\prime}$"
      ],
      "text/plain": [
       "<Angle 0.0056912 deg>"
      ]
     },
     "execution_count": 12,
     "metadata": {},
     "output_type": "execute_result"
    }
   ],
   "source": [
    "pluto_sep"
   ]
  },
  {
   "cell_type": "code",
   "execution_count": 4,
   "metadata": {},
   "outputs": [
    {
     "name": "stdout",
     "output_type": "stream",
     "text": [
      "Pluto separation (with pointing error corrected): 8.6550 arcseconds\n"
     ]
    }
   ],
   "source": [
    "ps = 0.184 # arcsec/pixel Plate scale for Nickel CCD-2\n",
    "pluto_sep_from_img_coords = np.sqrt(np.dot(pluto_disp_img_coords, pluto_disp_img_coords)) * ps\n",
    "print('Pluto separation (with pointing error corrected): {:.4f} arcseconds'.format(pluto_sep_from_img_coords))"
   ]
  },
  {
   "cell_type": "code",
   "execution_count": 5,
   "metadata": {},
   "outputs": [
    {
     "name": "stdout",
     "output_type": "stream",
     "text": [
      "0.3863359021341616\n",
      "2.75515742131755\n"
     ]
    }
   ],
   "source": [
    "gamma = ((1 + 28/60 + 32.5/3600) * 15) * 2 * np.pi / 360 # Radians (converts 1h28m32.5m to radians)\n",
    "gamma_1 = np.pi - gamma - pluto_sep.radian # Radians (converts 1h28m32.5m to radians)\n",
    "\n",
    "print(gamma)\n",
    "print(gamma_1)"
   ]
  },
  {
   "cell_type": "markdown",
   "metadata": {},
   "source": [
    "*Note: Changed cell below factor of (2 * np.pi / 360) --> (2 * np.pi / 365)*"
   ]
  },
  {
   "cell_type": "code",
   "execution_count": 10,
   "metadata": {},
   "outputs": [],
   "source": [
    "d = np.sin(gamma_1) * (2*np.pi / 365) / np.sin(pluto_sep.radian) # In AU"
   ]
  },
  {
   "cell_type": "code",
   "execution_count": 11,
   "metadata": {},
   "outputs": [
    {
     "name": "stdout",
     "output_type": "stream",
     "text": [
      "Distance to Pluto from Earth = 65.32 AU\n"
     ]
    }
   ],
   "source": [
    "print('Distance to Pluto from Earth = {:.4} AU'.format(d))"
   ]
  },
  {
   "cell_type": "code",
   "execution_count": null,
   "metadata": {},
   "outputs": [],
   "source": []
  }
 ],
 "metadata": {
  "kernelspec": {
   "display_name": "Python 3",
   "language": "python",
   "name": "python3"
  },
  "language_info": {
   "codemirror_mode": {
    "name": "ipython",
    "version": 3
   },
   "file_extension": ".py",
   "mimetype": "text/x-python",
   "name": "python",
   "nbconvert_exporter": "python",
   "pygments_lexer": "ipython3",
   "version": "3.7.3"
  }
 },
 "nbformat": 4,
 "nbformat_minor": 2
}
