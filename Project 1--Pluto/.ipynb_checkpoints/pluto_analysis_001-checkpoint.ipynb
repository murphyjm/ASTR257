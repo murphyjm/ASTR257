{
 "cells": [
  {
   "cell_type": "code",
   "execution_count": 1,
   "metadata": {},
   "outputs": [],
   "source": [
    "# imports\n",
    "import os\n",
    "from pkg_resources import resource_filename\n",
    "import glob\n",
    "import sys\n",
    "import os\n",
    "import subprocess\n",
    "\n",
    "import numpy as np\n",
    "\n",
    "from astropy.io import fits\n",
    "\n",
    "# ASTR 257\n",
    "from astr257 import img_utils\n",
    "\n",
    "import matplotlib.pyplot as plt"
   ]
  },
  {
   "cell_type": "code",
   "execution_count": 2,
   "metadata": {},
   "outputs": [],
   "source": [
    "data_folder = \"data-2019-09-22-nickel-joey-vivian\"\n",
    "data_folder_cals = os.path.join(data_folder, 'calibration_frames')"
   ]
  },
  {
   "cell_type": "code",
   "execution_count": 3,
   "metadata": {},
   "outputs": [],
   "source": [
    "calibration_folders_list = [os.path.join(data_folder_cals, 'bias_frames'), os.path.join(data_folder_cals, 'dark_frames'), os.path.join(data_folder_cals, 'flat_frames')]\n",
    "science_folder = os.path.join(data_folder, 'science_frames')"
   ]
  },
  {
   "cell_type": "code",
   "execution_count": 5,
   "metadata": {},
   "outputs": [],
   "source": [
    "def crawl_folder(folder):\n",
    "    '''\n",
    "    Crawl a folder looking for .fits files. Return a list of their data.\n",
    "    '''\n",
    "    \n",
    "    images_list = []\n",
    "    \n",
    "    for filename in os.listdir(folder):\n",
    "        filename = os.path.join(folder, filename)\n",
    "        \n",
    "        if filename.endswith(\".fits\"):\n",
    "            \n",
    "            assert os.path.isfile(filename), \"This is not a file\"\n",
    "            \n",
    "            # Extract the pixel values\n",
    "            hdul = fits.open(filename)\n",
    "            data = hdul[0].data\n",
    "            data = data.astype(float)\n",
    "            \n",
    "            images_list.append(data)\n",
    "            \n",
    "    return images_list"
   ]
  },
  {
   "cell_type": "code",
   "execution_count": 6,
   "metadata": {},
   "outputs": [],
   "source": [
    "master_cal_dict = {}\n",
    "\n",
    "for folder in calibration_folders_list:\n",
    "    \n",
    "    curr_images_list = crawl_folder(folder)\n",
    "    \n",
    "    # Stack and then median the images\n",
    "    curr_images_stacked = np.stack(curr_images_list, axis=2)\n",
    "    \n",
    "    # Median the images\n",
    "    curr_images_med = np.median(curr_images_stacked, axis=2)\n",
    "    \n",
    "    # Add them to the master calibration dict\n",
    "    master_cal_dict[folder[-11:] + '_master'] = curr_images_med"
   ]
  },
  {
   "cell_type": "code",
   "execution_count": 7,
   "metadata": {},
   "outputs": [],
   "source": [
    "# Create the dark frame master\n",
    "master_cal_dict['dark_frames_master'] = master_cal_dict['dark_frames_master'] - master_cal_dict['bias_frames_master']"
   ]
  },
  {
   "cell_type": "code",
   "execution_count": 9,
   "metadata": {},
   "outputs": [],
   "source": [
    "# Create the flat frame master\n",
    "master_cal_dict['flat_frames_master'] = master_cal_dict['flat_frames_master'] - master_cal_dict['dark_frames_master'] - master_cal_dict['bias_frames_master']\n"
   ]
  },
  {
   "cell_type": "code",
   "execution_count": 10,
   "metadata": {},
   "outputs": [],
   "source": [
    "# Normalize the flat frame\n",
    "master_cal_dict['flat_frames_master'] = master_cal_dict['flat_frames_master'] / np.median(master_cal_dict['flat_frames_master'])\n"
   ]
  },
  {
   "cell_type": "code",
   "execution_count": 11,
   "metadata": {},
   "outputs": [],
   "source": [
    "# Median combine the science images\n",
    "science_images_list = crawl_folder(science_folder)\n",
    "\n",
    "# Stack and then median the images\n",
    "science_images_stacked = np.stack(science_images_list, axis=2)\n",
    "\n",
    "# Median the images\n",
    "science_images_med = np.median(science_images_stacked, axis=2)"
   ]
  },
  {
   "cell_type": "code",
   "execution_count": 18,
   "metadata": {},
   "outputs": [],
   "source": [
    "master_cal_dict['flat_frames_master'] += 1.01 * np.abs(np.min(master_cal_dict['flat_frames_master']))"
   ]
  },
  {
   "cell_type": "code",
   "execution_count": 25,
   "metadata": {},
   "outputs": [],
   "source": [
    "# NOTE: Small value added in denominator to avoid divide by zero error\n",
    "\n",
    "calibrated_image = (science_images_med - master_cal_dict['dark_frames_master'] - master_cal_dict['bias_frames_master']) / master_cal_dict['flat_frames_master']\n",
    "\n",
    "calibrated_image_multiplied = (science_images_med - master_cal_dict['dark_frames_master'] - master_cal_dict['bias_frames_master']) * master_cal_dict['flat_frames_master']\n",
    "\n",
    "calibrated_image_no_flat = (science_images_med - master_cal_dict['dark_frames_master'] - master_cal_dict['bias_frames_master'])"
   ]
  },
  {
   "cell_type": "code",
   "execution_count": 22,
   "metadata": {},
   "outputs": [],
   "source": [
    "img_utils.view_in_ginga(calibrated_image, chname='Image0')"
   ]
  },
  {
   "cell_type": "code",
   "execution_count": 21,
   "metadata": {},
   "outputs": [],
   "source": [
    "img_utils.view_in_ginga(calibrated_image_multiplied, chname='Image1')"
   ]
  },
  {
   "cell_type": "code",
   "execution_count": 23,
   "metadata": {},
   "outputs": [],
   "source": [
    "phdu = fits.PrimaryHDU(calibrated_image)\n",
    "hdul2 = fits.HDUList([phdu])\n",
    "hdul2.writeto('calibrated_pluto_night_1_new_calib.fits', overwrite=True)"
   ]
  },
  {
   "cell_type": "code",
   "execution_count": 24,
   "metadata": {},
   "outputs": [],
   "source": [
    "phdu = fits.PrimaryHDU(calibrated_image_multiplied)\n",
    "hdul2 = fits.HDUList([phdu])\n",
    "hdul2.writeto('calibrated_pluto_night_1_new_calib_multiplied.fits', overwrite=True)"
   ]
  },
  {
   "cell_type": "code",
   "execution_count": 26,
   "metadata": {},
   "outputs": [],
   "source": [
    "phdu = fits.PrimaryHDU(calibrated_image_multiplied)\n",
    "hdul2 = fits.HDUList([phdu])\n",
    "hdul2.writeto('calibrated_pluto_night_1_new_calib_noflat.fits', overwrite=True)"
   ]
  },
  {
   "cell_type": "code",
   "execution_count": null,
   "metadata": {},
   "outputs": [],
   "source": []
  }
 ],
 "metadata": {
  "kernelspec": {
   "display_name": "Python 3",
   "language": "python",
   "name": "python3"
  },
  "language_info": {
   "codemirror_mode": {
    "name": "ipython",
    "version": 3
   },
   "file_extension": ".py",
   "mimetype": "text/x-python",
   "name": "python",
   "nbconvert_exporter": "python",
   "pygments_lexer": "ipython3",
   "version": "3.7.3"
  }
 },
 "nbformat": 4,
 "nbformat_minor": 2
}
