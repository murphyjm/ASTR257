{
 "cells": [
  {
   "cell_type": "code",
   "execution_count": 38,
   "metadata": {},
   "outputs": [
    {
     "name": "stdout",
     "output_type": "stream",
     "text": [
      "The autoreload extension is already loaded. To reload it, use:\n",
      "  %reload_ext autoreload\n"
     ]
    }
   ],
   "source": [
    "# imports\n",
    "import os\n",
    "from pkg_resources import resource_filename\n",
    "import os\n",
    "import numpy as np\n",
    "from astropy.io import fits\n",
    "\n",
    "# ASTR 257\n",
    "from astr257 import img_utils\n",
    "\n",
    "from utils import *\n",
    "\n",
    "%load_ext autoreload\n",
    "%autoreload 2"
   ]
  },
  {
   "cell_type": "markdown",
   "metadata": {},
   "source": [
    "## *Change the data folder depending on which night you're reducing images for*\n",
    "    - First night:  \"data-2019-09-22-nickel-joey-vivian\"\n",
    "    - Second night: \"data-2019-09-23-nickel-joey-vivian\""
   ]
  },
  {
   "cell_type": "code",
   "execution_count": 46,
   "metadata": {},
   "outputs": [],
   "source": [
    "data_folder = \"data-2019-09-22-nickel-joey-vivian\""
   ]
  },
  {
   "cell_type": "code",
   "execution_count": 47,
   "metadata": {},
   "outputs": [],
   "source": [
    "OVERWRITE = False"
   ]
  },
  {
   "cell_type": "markdown",
   "metadata": {},
   "source": [
    "## Make the calibration masters"
   ]
  },
  {
   "cell_type": "code",
   "execution_count": 48,
   "metadata": {},
   "outputs": [],
   "source": [
    "biases_combined, header_biases = crawl_and_median(data_folder, 'biases')\n",
    "\n",
    "darks_combined, header_darks = crawl_and_median(data_folder, 'darks')\n",
    "\n",
    "flats_combined, header_flats = crawl_and_median(data_folder, 'flats')"
   ]
  },
  {
   "cell_type": "markdown",
   "metadata": {},
   "source": [
    "## Write the calibration masters to file"
   ]
  },
  {
   "cell_type": "code",
   "execution_count": 49,
   "metadata": {},
   "outputs": [
    {
     "name": "stdout",
     "output_type": "stream",
     "text": [
      "Warning: Did not overwrite file.\n"
     ]
    }
   ],
   "source": [
    "darks_master = darks_combined - biases_combined\n",
    "flats_master = flats_combined - darks_master - biases_combined\n",
    "\n",
    "# Normalize the flat frame\n",
    "flats_master_normalized = flats_master / np.median(flats_master)\n",
    "\n",
    "# Save the masters\n",
    "try:\n",
    "    fits.writeto(os.path.join(data_folder, 'masters/darks_master.fits'), darks_master, header=header_darks, overwrite=OVERWRITE)\n",
    "    fits.writeto(os.path.join(data_folder, 'masters/biases_combined.fits'), biases_combined, header=header_biases, overwrite=OVERWRITE)\n",
    "    fits.writeto(os.path.join(data_folder, 'masters/flats_master_normalized.fits'), flats_master_normalized, header=header_flats, overwrite=OVERWRITE)\n",
    "except:\n",
    "    print('Warning: Did not overwrite file.')"
   ]
  },
  {
   "cell_type": "markdown",
   "metadata": {},
   "source": [
    "## Science masters"
   ]
  },
  {
   "cell_type": "code",
   "execution_count": 50,
   "metadata": {},
   "outputs": [],
   "source": [
    "# Crawl the data folder and median the science images\n",
    "pluto_combined, header_pluto = crawl_and_median(data_folder, 'pluto')"
   ]
  },
  {
   "cell_type": "code",
   "execution_count": 51,
   "metadata": {},
   "outputs": [],
   "source": [
    "# Foo factor so we don't divide by zero\n",
    "foo_factor = 1.1 * np.abs(np.min(flats_master_normalized))"
   ]
  },
  {
   "cell_type": "code",
   "execution_count": 52,
   "metadata": {},
   "outputs": [],
   "source": [
    "# Write the new science image to file\n",
    "pluto_master_full_cal = pluto_combined - biases_combined - darks_master / (flats_master_normalized + foo_factor)\n",
    "foo_offset = np.abs(np.min(pluto_master_full_cal))\n",
    "pluto_master_full_cal += 1.01 * foo_offset\n",
    "\n",
    "try:\n",
    "    fits.writeto(os.path.join(data_folder, 'masters/pluto_master_full_cal_night_1_new_001.fits'), pluto_master_full_cal, header=header_pluto, overwrite=OVERWRITE)\n",
    "except:\n",
    "    print('Warning: Did not overwrite file.')"
   ]
  },
  {
   "cell_type": "code",
   "execution_count": null,
   "metadata": {},
   "outputs": [],
   "source": []
  },
  {
   "cell_type": "code",
   "execution_count": null,
   "metadata": {},
   "outputs": [],
   "source": []
  }
 ],
 "metadata": {
  "kernelspec": {
   "display_name": "Python 3",
   "language": "python",
   "name": "python3"
  },
  "language_info": {
   "codemirror_mode": {
    "name": "ipython",
    "version": 3
   },
   "file_extension": ".py",
   "mimetype": "text/x-python",
   "name": "python",
   "nbconvert_exporter": "python",
   "pygments_lexer": "ipython3",
   "version": "3.7.3"
  }
 },
 "nbformat": 4,
 "nbformat_minor": 2
}
